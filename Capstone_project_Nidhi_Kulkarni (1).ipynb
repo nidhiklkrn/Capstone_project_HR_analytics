{
 "cells": [
  {
   "cell_type": "markdown",
   "id": "567bbb82",
   "metadata": {},
   "source": [
    "## The project requires to put ourself in the shoes of an HR analytics expert by leveraging the data provided, we are supposed to identify how salary is varying with respect to other considerable factors.\n",
    "\n",
    "### The data for the same is being imported and the feauture description of all the columns is as below.\n",
    "\n",
    "#### Feature Description\n",
    "\n",
    "1. Gender - talks of the gender - Male or female\n",
    "2. Business - if the person has a business or no\n",
    "3. Age - age of the person\n",
    "4. Salary - CTC of the employee\n",
    "5. Dependants - number of people dependant on the person\n",
    "6. Months - duration of the person employed with the company\n",
    "7. Calls - if the person has authority to make calls or not\n",
    "8. Type - salary settlement type\n",
    "9. Billing - Subscribed to billing plans or no\n",
    "10. Unit sales - unit sale made by the person\n",
    "11. Total sales - total sales made by the person\n",
    "12. Rating - If he has been given a rating by a superior or no\n",
    "13. Bonus - amount received by a person as bonus for sales\n",
    "14. Base pay - Base pay of the employee\n",
    "15. Unit price - The Unit price of a sale\n",
    "16. Volume - volume allotted to a person\n",
    "17. Opening balance - The opening balance of an employee\n",
    "18. Low - lowest balance allotted to a person.\n",
    "19. Closing Balance- The closing balance of an employee\n",
    "20. Education- Educational background of an employee"
   ]
  },
  {
   "cell_type": "code",
   "execution_count": 1,
   "id": "10301999",
   "metadata": {},
   "outputs": [],
   "source": [
    "# importing libraries\n",
    "# importing numpy for numerical analysis, pandas for being able to read tables into Python and take action on the same, matplotlib and seaborn for data visualization.\n",
    "\n",
    "import numpy as np\n",
    "import pandas as pd\n",
    "import matplotlib.pyplot as plt\n",
    "import seaborn as sns"
   ]
  },
  {
   "cell_type": "markdown",
   "id": "4535c9be",
   "metadata": {},
   "source": [
    "## Understand the data set - Feature description provided below."
   ]
  },
  {
   "cell_type": "code",
   "execution_count": 2,
   "id": "9fad619f",
   "metadata": {},
   "outputs": [
    {
     "data": {
      "text/html": [
       "<div>\n",
       "<style scoped>\n",
       "    .dataframe tbody tr th:only-of-type {\n",
       "        vertical-align: middle;\n",
       "    }\n",
       "\n",
       "    .dataframe tbody tr th {\n",
       "        vertical-align: top;\n",
       "    }\n",
       "\n",
       "    .dataframe thead th {\n",
       "        text-align: right;\n",
       "    }\n",
       "</style>\n",
       "<table border=\"1\" class=\"dataframe\">\n",
       "  <thead>\n",
       "    <tr style=\"text-align: right;\">\n",
       "      <th></th>\n",
       "      <th>Gender</th>\n",
       "      <th>Business</th>\n",
       "      <th>Dependancies</th>\n",
       "      <th>Calls</th>\n",
       "      <th>Type</th>\n",
       "      <th>Billing</th>\n",
       "      <th>Rating</th>\n",
       "      <th>Age</th>\n",
       "      <th>Salary</th>\n",
       "      <th>Base_pay</th>\n",
       "      <th>Bonus</th>\n",
       "      <th>Unit_Price</th>\n",
       "      <th>Volume</th>\n",
       "      <th>openingbalance</th>\n",
       "      <th>closingbalance</th>\n",
       "      <th>low</th>\n",
       "      <th>Unit_Sales</th>\n",
       "      <th>Total_Sales</th>\n",
       "      <th>Months</th>\n",
       "      <th>Education</th>\n",
       "    </tr>\n",
       "  </thead>\n",
       "  <tbody>\n",
       "    <tr>\n",
       "      <th>0</th>\n",
       "      <td>Female</td>\n",
       "      <td>0</td>\n",
       "      <td>No</td>\n",
       "      <td>Yes</td>\n",
       "      <td>Month-to-month</td>\n",
       "      <td>No</td>\n",
       "      <td>Yes</td>\n",
       "      <td>18</td>\n",
       "      <td>5089.00</td>\n",
       "      <td>2035.600</td>\n",
       "      <td>254.4500</td>\n",
       "      <td>3.77</td>\n",
       "      <td>21226600</td>\n",
       "      <td>3.75</td>\n",
       "      <td>3.76</td>\n",
       "      <td>3.65</td>\n",
       "      <td>18.25</td>\n",
       "      <td>18.8</td>\n",
       "      <td>0</td>\n",
       "      <td>High School or less</td>\n",
       "    </tr>\n",
       "    <tr>\n",
       "      <th>1</th>\n",
       "      <td>Female</td>\n",
       "      <td>0</td>\n",
       "      <td>No</td>\n",
       "      <td>Yes</td>\n",
       "      <td>Month-to-month</td>\n",
       "      <td>No</td>\n",
       "      <td>Yes</td>\n",
       "      <td>19</td>\n",
       "      <td>5698.12</td>\n",
       "      <td>2279.248</td>\n",
       "      <td>284.9060</td>\n",
       "      <td>3.74</td>\n",
       "      <td>10462800</td>\n",
       "      <td>3.85</td>\n",
       "      <td>3.68</td>\n",
       "      <td>3.65</td>\n",
       "      <td>18.40</td>\n",
       "      <td>18.85</td>\n",
       "      <td>0</td>\n",
       "      <td>High School or less</td>\n",
       "    </tr>\n",
       "    <tr>\n",
       "      <th>2</th>\n",
       "      <td>Male</td>\n",
       "      <td>0</td>\n",
       "      <td>No</td>\n",
       "      <td>Yes</td>\n",
       "      <td>Month-to-month</td>\n",
       "      <td>Yes</td>\n",
       "      <td>No</td>\n",
       "      <td>22</td>\n",
       "      <td>5896.65</td>\n",
       "      <td>2358.660</td>\n",
       "      <td>294.8325</td>\n",
       "      <td>3.89</td>\n",
       "      <td>18761000</td>\n",
       "      <td>4.23</td>\n",
       "      <td>4.29</td>\n",
       "      <td>3.72</td>\n",
       "      <td>18.70</td>\n",
       "      <td>18.9</td>\n",
       "      <td>0</td>\n",
       "      <td>High School or less</td>\n",
       "    </tr>\n",
       "    <tr>\n",
       "      <th>3</th>\n",
       "      <td>Female</td>\n",
       "      <td>1</td>\n",
       "      <td>No</td>\n",
       "      <td>Yes</td>\n",
       "      <td>Month-to-month</td>\n",
       "      <td>Yes</td>\n",
       "      <td>Yes</td>\n",
       "      <td>21</td>\n",
       "      <td>6125.12</td>\n",
       "      <td>2450.048</td>\n",
       "      <td>306.2560</td>\n",
       "      <td>4.35</td>\n",
       "      <td>66130600</td>\n",
       "      <td>4.26</td>\n",
       "      <td>4.31</td>\n",
       "      <td>3.83</td>\n",
       "      <td>18.75</td>\n",
       "      <td>19</td>\n",
       "      <td>0</td>\n",
       "      <td>High School or less</td>\n",
       "    </tr>\n",
       "    <tr>\n",
       "      <th>4</th>\n",
       "      <td>Male</td>\n",
       "      <td>0</td>\n",
       "      <td>No</td>\n",
       "      <td>Yes</td>\n",
       "      <td>Month-to-month</td>\n",
       "      <td>Yes</td>\n",
       "      <td>Yes</td>\n",
       "      <td>23</td>\n",
       "      <td>6245.00</td>\n",
       "      <td>2498.000</td>\n",
       "      <td>312.2500</td>\n",
       "      <td>4.34</td>\n",
       "      <td>26868200</td>\n",
       "      <td>4.79</td>\n",
       "      <td>4.41</td>\n",
       "      <td>4.08</td>\n",
       "      <td>18.80</td>\n",
       "      <td>19.05</td>\n",
       "      <td>1</td>\n",
       "      <td>High School or less</td>\n",
       "    </tr>\n",
       "  </tbody>\n",
       "</table>\n",
       "</div>"
      ],
      "text/plain": [
       "   Gender  Business Dependancies Calls            Type Billing Rating  Age  \\\n",
       "0  Female         0           No   Yes  Month-to-month      No    Yes   18   \n",
       "1  Female         0           No   Yes  Month-to-month      No    Yes   19   \n",
       "2    Male         0           No   Yes  Month-to-month     Yes     No   22   \n",
       "3  Female         1           No   Yes  Month-to-month     Yes    Yes   21   \n",
       "4    Male         0           No   Yes  Month-to-month     Yes    Yes   23   \n",
       "\n",
       "    Salary  Base_pay     Bonus  Unit_Price    Volume  openingbalance  \\\n",
       "0  5089.00  2035.600  254.4500        3.77  21226600            3.75   \n",
       "1  5698.12  2279.248  284.9060        3.74  10462800            3.85   \n",
       "2  5896.65  2358.660  294.8325        3.89  18761000            4.23   \n",
       "3  6125.12  2450.048  306.2560        4.35  66130600            4.26   \n",
       "4  6245.00  2498.000  312.2500        4.34  26868200            4.79   \n",
       "\n",
       "   closingbalance   low  Unit_Sales Total_Sales  Months            Education  \n",
       "0            3.76  3.65       18.25        18.8       0  High School or less  \n",
       "1            3.68  3.65       18.40       18.85       0  High School or less  \n",
       "2            4.29  3.72       18.70        18.9       0  High School or less  \n",
       "3            4.31  3.83       18.75          19       0  High School or less  \n",
       "4            4.41  4.08       18.80       19.05       1  High School or less  "
      ]
     },
     "execution_count": 2,
     "metadata": {},
     "output_type": "execute_result"
    }
   ],
   "source": [
    "# Reading the provided dataseet and using .head() to view the column names and first 5 values for each column.\n",
    "\n",
    "HR_dataset = pd.read_csv('New_data_Set.csv')\n",
    "HR_dataset.head()"
   ]
  },
  {
   "cell_type": "code",
   "execution_count": 3,
   "id": "806ba834",
   "metadata": {},
   "outputs": [
    {
     "name": "stdout",
     "output_type": "stream",
     "text": [
      "<class 'pandas.core.frame.DataFrame'>\n",
      "RangeIndex: 5000 entries, 0 to 4999\n",
      "Data columns (total 20 columns):\n",
      " #   Column          Non-Null Count  Dtype  \n",
      "---  ------          --------------  -----  \n",
      " 0   Gender          5000 non-null   object \n",
      " 1   Business        5000 non-null   int64  \n",
      " 2   Dependancies    5000 non-null   object \n",
      " 3   Calls           5000 non-null   object \n",
      " 4   Type            5000 non-null   object \n",
      " 5   Billing         5000 non-null   object \n",
      " 6   Rating          5000 non-null   object \n",
      " 7   Age             5000 non-null   int64  \n",
      " 8   Salary          5000 non-null   float64\n",
      " 9   Base_pay        4977 non-null   float64\n",
      " 10  Bonus           5000 non-null   float64\n",
      " 11  Unit_Price      5000 non-null   float64\n",
      " 12  Volume          5000 non-null   int64  \n",
      " 13  openingbalance  3524 non-null   float64\n",
      " 14  closingbalance  5000 non-null   float64\n",
      " 15  low             5000 non-null   float64\n",
      " 16  Unit_Sales      5000 non-null   float64\n",
      " 17  Total_Sales     4992 non-null   object \n",
      " 18  Months          5000 non-null   int64  \n",
      " 19  Education       5000 non-null   object \n",
      "dtypes: float64(8), int64(4), object(8)\n",
      "memory usage: 781.4+ KB\n"
     ]
    }
   ],
   "source": [
    "# Info gives us the total Non-Null Count and datatypes for each column. \n",
    "\n",
    "HR_dataset.info()"
   ]
  },
  {
   "cell_type": "code",
   "execution_count": 4,
   "id": "870da5ef",
   "metadata": {},
   "outputs": [
    {
     "data": {
      "text/plain": [
       "Gender               0\n",
       "Business             0\n",
       "Dependancies         0\n",
       "Calls                0\n",
       "Type                 0\n",
       "Billing              0\n",
       "Rating               0\n",
       "Age                  0\n",
       "Salary               0\n",
       "Base_pay            23\n",
       "Bonus                0\n",
       "Unit_Price           0\n",
       "Volume               0\n",
       "openingbalance    1476\n",
       "closingbalance       0\n",
       "low                  0\n",
       "Unit_Sales           0\n",
       "Total_Sales          8\n",
       "Months               0\n",
       "Education            0\n",
       "dtype: int64"
      ]
     },
     "execution_count": 4,
     "metadata": {},
     "output_type": "execute_result"
    }
   ],
   "source": [
    "# isnull.sum() is used to give a columnwise count for the total sum of all the null values.\n",
    "\n",
    "HR_dataset.isnull().sum()"
   ]
  },
  {
   "cell_type": "code",
   "execution_count": 5,
   "id": "3b2daae7",
   "metadata": {},
   "outputs": [
    {
     "data": {
      "text/plain": [
       "Gender               2\n",
       "Business             2\n",
       "Dependancies         2\n",
       "Calls                2\n",
       "Type                 3\n",
       "Billing              2\n",
       "Rating               2\n",
       "Age                 65\n",
       "Salary            5000\n",
       "Base_pay          4883\n",
       "Bonus             5000\n",
       "Unit_Price        3836\n",
       "Volume            4831\n",
       "openingbalance    2986\n",
       "closingbalance    4011\n",
       "low               4014\n",
       "Unit_Sales        1434\n",
       "Total_Sales       4706\n",
       "Months              73\n",
       "Education            4\n",
       "dtype: int64"
      ]
     },
     "execution_count": 5,
     "metadata": {},
     "output_type": "execute_result"
    }
   ],
   "source": [
    "# .nunique() returns all the columnwise distinct values in a dataset.\n",
    "\n",
    "HR_dataset.nunique()"
   ]
  },
  {
   "cell_type": "code",
   "execution_count": 6,
   "id": "e1726869",
   "metadata": {},
   "outputs": [
    {
     "data": {
      "text/html": [
       "<div>\n",
       "<style scoped>\n",
       "    .dataframe tbody tr th:only-of-type {\n",
       "        vertical-align: middle;\n",
       "    }\n",
       "\n",
       "    .dataframe tbody tr th {\n",
       "        vertical-align: top;\n",
       "    }\n",
       "\n",
       "    .dataframe thead th {\n",
       "        text-align: right;\n",
       "    }\n",
       "</style>\n",
       "<table border=\"1\" class=\"dataframe\">\n",
       "  <thead>\n",
       "    <tr style=\"text-align: right;\">\n",
       "      <th></th>\n",
       "      <th>Calls</th>\n",
       "      <th>Type</th>\n",
       "      <th>Billing</th>\n",
       "      <th>Rating</th>\n",
       "      <th>Salary</th>\n",
       "      <th>Base_pay</th>\n",
       "      <th>Bonus</th>\n",
       "      <th>Unit_Price</th>\n",
       "      <th>Volume</th>\n",
       "      <th>openingbalance</th>\n",
       "      <th>closingbalance</th>\n",
       "      <th>low</th>\n",
       "      <th>Unit_Sales</th>\n",
       "      <th>Total_Sales</th>\n",
       "      <th>Months</th>\n",
       "    </tr>\n",
       "  </thead>\n",
       "  <tbody>\n",
       "    <tr>\n",
       "      <th>0</th>\n",
       "      <td>Yes</td>\n",
       "      <td>Month-to-month</td>\n",
       "      <td>No</td>\n",
       "      <td>Yes</td>\n",
       "      <td>5089.00</td>\n",
       "      <td>2035.600</td>\n",
       "      <td>254.4500</td>\n",
       "      <td>3.77</td>\n",
       "      <td>21226600</td>\n",
       "      <td>3.75</td>\n",
       "      <td>3.76</td>\n",
       "      <td>3.65</td>\n",
       "      <td>18.25</td>\n",
       "      <td>18.8</td>\n",
       "      <td>0</td>\n",
       "    </tr>\n",
       "    <tr>\n",
       "      <th>1</th>\n",
       "      <td>Yes</td>\n",
       "      <td>Month-to-month</td>\n",
       "      <td>No</td>\n",
       "      <td>Yes</td>\n",
       "      <td>5698.12</td>\n",
       "      <td>2279.248</td>\n",
       "      <td>284.9060</td>\n",
       "      <td>3.74</td>\n",
       "      <td>10462800</td>\n",
       "      <td>3.85</td>\n",
       "      <td>3.68</td>\n",
       "      <td>3.65</td>\n",
       "      <td>18.40</td>\n",
       "      <td>18.85</td>\n",
       "      <td>0</td>\n",
       "    </tr>\n",
       "    <tr>\n",
       "      <th>2</th>\n",
       "      <td>Yes</td>\n",
       "      <td>Month-to-month</td>\n",
       "      <td>Yes</td>\n",
       "      <td>No</td>\n",
       "      <td>5896.65</td>\n",
       "      <td>2358.660</td>\n",
       "      <td>294.8325</td>\n",
       "      <td>3.89</td>\n",
       "      <td>18761000</td>\n",
       "      <td>4.23</td>\n",
       "      <td>4.29</td>\n",
       "      <td>3.72</td>\n",
       "      <td>18.70</td>\n",
       "      <td>18.9</td>\n",
       "      <td>0</td>\n",
       "    </tr>\n",
       "    <tr>\n",
       "      <th>3</th>\n",
       "      <td>Yes</td>\n",
       "      <td>Month-to-month</td>\n",
       "      <td>Yes</td>\n",
       "      <td>Yes</td>\n",
       "      <td>6125.12</td>\n",
       "      <td>2450.048</td>\n",
       "      <td>306.2560</td>\n",
       "      <td>4.35</td>\n",
       "      <td>66130600</td>\n",
       "      <td>4.26</td>\n",
       "      <td>4.31</td>\n",
       "      <td>3.83</td>\n",
       "      <td>18.75</td>\n",
       "      <td>19</td>\n",
       "      <td>0</td>\n",
       "    </tr>\n",
       "    <tr>\n",
       "      <th>4</th>\n",
       "      <td>Yes</td>\n",
       "      <td>Month-to-month</td>\n",
       "      <td>Yes</td>\n",
       "      <td>Yes</td>\n",
       "      <td>6245.00</td>\n",
       "      <td>2498.000</td>\n",
       "      <td>312.2500</td>\n",
       "      <td>4.34</td>\n",
       "      <td>26868200</td>\n",
       "      <td>4.79</td>\n",
       "      <td>4.41</td>\n",
       "      <td>4.08</td>\n",
       "      <td>18.80</td>\n",
       "      <td>19.05</td>\n",
       "      <td>1</td>\n",
       "    </tr>\n",
       "  </tbody>\n",
       "</table>\n",
       "</div>"
      ],
      "text/plain": [
       "  Calls            Type Billing Rating   Salary  Base_pay     Bonus  \\\n",
       "0   Yes  Month-to-month      No    Yes  5089.00  2035.600  254.4500   \n",
       "1   Yes  Month-to-month      No    Yes  5698.12  2279.248  284.9060   \n",
       "2   Yes  Month-to-month     Yes     No  5896.65  2358.660  294.8325   \n",
       "3   Yes  Month-to-month     Yes    Yes  6125.12  2450.048  306.2560   \n",
       "4   Yes  Month-to-month     Yes    Yes  6245.00  2498.000  312.2500   \n",
       "\n",
       "   Unit_Price    Volume  openingbalance  closingbalance   low  Unit_Sales  \\\n",
       "0        3.77  21226600            3.75            3.76  3.65       18.25   \n",
       "1        3.74  10462800            3.85            3.68  3.65       18.40   \n",
       "2        3.89  18761000            4.23            4.29  3.72       18.70   \n",
       "3        4.35  66130600            4.26            4.31  3.83       18.75   \n",
       "4        4.34  26868200            4.79            4.41  4.08       18.80   \n",
       "\n",
       "  Total_Sales  Months  \n",
       "0        18.8       0  \n",
       "1       18.85       0  \n",
       "2        18.9       0  \n",
       "3          19       0  \n",
       "4       19.05       1  "
      ]
     },
     "execution_count": 6,
     "metadata": {},
     "output_type": "execute_result"
    }
   ],
   "source": [
    "# As per the dataset, we can infer that [\"Gender\", \"Business\", \"Age\", \"Dependancies\",\"Education\"] do not impact the salary (which is the key column to be considered)and hence can be dropped to have a more cleaner & smaller dataset.\n",
    "\n",
    "HR_dataset = HR_dataset.drop(columns=[\"Gender\", \"Business\", \"Age\", \"Dependancies\",\"Education\"])\n",
    "HR_dataset.head()"
   ]
  },
  {
   "cell_type": "markdown",
   "id": "873dfb2e",
   "metadata": {},
   "source": [
    "## Find out the correlation between variables using spearman rank correlation & explain."
   ]
  },
  {
   "cell_type": "code",
   "execution_count": 7,
   "id": "60d1035c",
   "metadata": {},
   "outputs": [
    {
     "data": {
      "text/html": [
       "<div>\n",
       "<style scoped>\n",
       "    .dataframe tbody tr th:only-of-type {\n",
       "        vertical-align: middle;\n",
       "    }\n",
       "\n",
       "    .dataframe tbody tr th {\n",
       "        vertical-align: top;\n",
       "    }\n",
       "\n",
       "    .dataframe thead th {\n",
       "        text-align: right;\n",
       "    }\n",
       "</style>\n",
       "<table border=\"1\" class=\"dataframe\">\n",
       "  <thead>\n",
       "    <tr style=\"text-align: right;\">\n",
       "      <th></th>\n",
       "      <th>Salary</th>\n",
       "      <th>Base_pay</th>\n",
       "      <th>Bonus</th>\n",
       "      <th>Unit_Price</th>\n",
       "      <th>Volume</th>\n",
       "      <th>openingbalance</th>\n",
       "      <th>closingbalance</th>\n",
       "      <th>low</th>\n",
       "      <th>Unit_Sales</th>\n",
       "      <th>Months</th>\n",
       "    </tr>\n",
       "  </thead>\n",
       "  <tbody>\n",
       "    <tr>\n",
       "      <th>Salary</th>\n",
       "      <td>1.000000</td>\n",
       "      <td>0.999976</td>\n",
       "      <td>1.000000</td>\n",
       "      <td>0.811713</td>\n",
       "      <td>-0.390488</td>\n",
       "      <td>0.297932</td>\n",
       "      <td>0.346498</td>\n",
       "      <td>0.999859</td>\n",
       "      <td>0.999997</td>\n",
       "      <td>0.603796</td>\n",
       "    </tr>\n",
       "    <tr>\n",
       "      <th>Base_pay</th>\n",
       "      <td>0.999976</td>\n",
       "      <td>1.000000</td>\n",
       "      <td>0.999976</td>\n",
       "      <td>0.811679</td>\n",
       "      <td>-0.390787</td>\n",
       "      <td>0.291481</td>\n",
       "      <td>0.339959</td>\n",
       "      <td>0.999832</td>\n",
       "      <td>0.999973</td>\n",
       "      <td>0.599535</td>\n",
       "    </tr>\n",
       "    <tr>\n",
       "      <th>Bonus</th>\n",
       "      <td>1.000000</td>\n",
       "      <td>0.999976</td>\n",
       "      <td>1.000000</td>\n",
       "      <td>0.811713</td>\n",
       "      <td>-0.390488</td>\n",
       "      <td>0.297932</td>\n",
       "      <td>0.346498</td>\n",
       "      <td>0.999859</td>\n",
       "      <td>0.999997</td>\n",
       "      <td>0.603796</td>\n",
       "    </tr>\n",
       "    <tr>\n",
       "      <th>Unit_Price</th>\n",
       "      <td>0.811713</td>\n",
       "      <td>0.811679</td>\n",
       "      <td>0.811713</td>\n",
       "      <td>1.000000</td>\n",
       "      <td>-0.324230</td>\n",
       "      <td>0.172338</td>\n",
       "      <td>0.263699</td>\n",
       "      <td>0.812412</td>\n",
       "      <td>0.811735</td>\n",
       "      <td>0.550062</td>\n",
       "    </tr>\n",
       "    <tr>\n",
       "      <th>Volume</th>\n",
       "      <td>-0.390488</td>\n",
       "      <td>-0.390787</td>\n",
       "      <td>-0.390488</td>\n",
       "      <td>-0.324230</td>\n",
       "      <td>1.000000</td>\n",
       "      <td>-0.024988</td>\n",
       "      <td>-0.147108</td>\n",
       "      <td>-0.392209</td>\n",
       "      <td>-0.390505</td>\n",
       "      <td>-0.262077</td>\n",
       "    </tr>\n",
       "    <tr>\n",
       "      <th>openingbalance</th>\n",
       "      <td>0.297932</td>\n",
       "      <td>0.291481</td>\n",
       "      <td>0.297932</td>\n",
       "      <td>0.172338</td>\n",
       "      <td>-0.024988</td>\n",
       "      <td>1.000000</td>\n",
       "      <td>0.288672</td>\n",
       "      <td>0.297840</td>\n",
       "      <td>0.297938</td>\n",
       "      <td>-0.003899</td>\n",
       "    </tr>\n",
       "    <tr>\n",
       "      <th>closingbalance</th>\n",
       "      <td>0.346498</td>\n",
       "      <td>0.339959</td>\n",
       "      <td>0.346498</td>\n",
       "      <td>0.263699</td>\n",
       "      <td>-0.147108</td>\n",
       "      <td>0.288672</td>\n",
       "      <td>1.000000</td>\n",
       "      <td>0.346278</td>\n",
       "      <td>0.346485</td>\n",
       "      <td>0.365927</td>\n",
       "    </tr>\n",
       "    <tr>\n",
       "      <th>low</th>\n",
       "      <td>0.999859</td>\n",
       "      <td>0.999832</td>\n",
       "      <td>0.999859</td>\n",
       "      <td>0.812412</td>\n",
       "      <td>-0.392209</td>\n",
       "      <td>0.297840</td>\n",
       "      <td>0.346278</td>\n",
       "      <td>1.000000</td>\n",
       "      <td>0.999856</td>\n",
       "      <td>0.603752</td>\n",
       "    </tr>\n",
       "    <tr>\n",
       "      <th>Unit_Sales</th>\n",
       "      <td>0.999997</td>\n",
       "      <td>0.999973</td>\n",
       "      <td>0.999997</td>\n",
       "      <td>0.811735</td>\n",
       "      <td>-0.390505</td>\n",
       "      <td>0.297938</td>\n",
       "      <td>0.346485</td>\n",
       "      <td>0.999856</td>\n",
       "      <td>1.000000</td>\n",
       "      <td>0.603779</td>\n",
       "    </tr>\n",
       "    <tr>\n",
       "      <th>Months</th>\n",
       "      <td>0.603796</td>\n",
       "      <td>0.599535</td>\n",
       "      <td>0.603796</td>\n",
       "      <td>0.550062</td>\n",
       "      <td>-0.262077</td>\n",
       "      <td>-0.003899</td>\n",
       "      <td>0.365927</td>\n",
       "      <td>0.603752</td>\n",
       "      <td>0.603779</td>\n",
       "      <td>1.000000</td>\n",
       "    </tr>\n",
       "  </tbody>\n",
       "</table>\n",
       "</div>"
      ],
      "text/plain": [
       "                  Salary  Base_pay     Bonus  Unit_Price    Volume  \\\n",
       "Salary          1.000000  0.999976  1.000000    0.811713 -0.390488   \n",
       "Base_pay        0.999976  1.000000  0.999976    0.811679 -0.390787   \n",
       "Bonus           1.000000  0.999976  1.000000    0.811713 -0.390488   \n",
       "Unit_Price      0.811713  0.811679  0.811713    1.000000 -0.324230   \n",
       "Volume         -0.390488 -0.390787 -0.390488   -0.324230  1.000000   \n",
       "openingbalance  0.297932  0.291481  0.297932    0.172338 -0.024988   \n",
       "closingbalance  0.346498  0.339959  0.346498    0.263699 -0.147108   \n",
       "low             0.999859  0.999832  0.999859    0.812412 -0.392209   \n",
       "Unit_Sales      0.999997  0.999973  0.999997    0.811735 -0.390505   \n",
       "Months          0.603796  0.599535  0.603796    0.550062 -0.262077   \n",
       "\n",
       "                openingbalance  closingbalance       low  Unit_Sales    Months  \n",
       "Salary                0.297932        0.346498  0.999859    0.999997  0.603796  \n",
       "Base_pay              0.291481        0.339959  0.999832    0.999973  0.599535  \n",
       "Bonus                 0.297932        0.346498  0.999859    0.999997  0.603796  \n",
       "Unit_Price            0.172338        0.263699  0.812412    0.811735  0.550062  \n",
       "Volume               -0.024988       -0.147108 -0.392209   -0.390505 -0.262077  \n",
       "openingbalance        1.000000        0.288672  0.297840    0.297938 -0.003899  \n",
       "closingbalance        0.288672        1.000000  0.346278    0.346485  0.365927  \n",
       "low                   0.297840        0.346278  1.000000    0.999856  0.603752  \n",
       "Unit_Sales            0.297938        0.346485  0.999856    1.000000  0.603779  \n",
       "Months               -0.003899        0.365927  0.603752    0.603779  1.000000  "
      ]
     },
     "execution_count": 7,
     "metadata": {},
     "output_type": "execute_result"
    }
   ],
   "source": [
    "# Using Spearman correlation technique to check for correlation between the numerical columns.\n",
    "# The values with correlation above 0.75 or 75% i.e., values closer to 1 are highly correlated.\n",
    "\n",
    "HR_dataset.corr(method='spearman')"
   ]
  },
  {
   "cell_type": "code",
   "execution_count": 8,
   "id": "82845d12",
   "metadata": {},
   "outputs": [
    {
     "data": {
      "image/png": "[encoded data removed]",
      "text/plain": [
       "<Figure size 1152x360 with 2 Axes>"
      ]
     },
     "metadata": {
      "needs_background": "light"
     },
     "output_type": "display_data"
    }
   ],
   "source": [
    "# Plotting heatmap to check for correlation between the numerical columns.\n",
    "# The values with correlation above 75% i.e., values closer to 1 are highly correlated.\n",
    "# This plot helps us drop columns with poor correlation.\n",
    "\n",
    "plt.figure(figsize = (16,5))\n",
    "sns.heatmap(HR_dataset.corr(), annot = True, linewidth = 0.5);"
   ]
  },
  {
   "cell_type": "code",
   "execution_count": 9,
   "id": "047daa46",
   "metadata": {},
   "outputs": [
    {
     "data": {
      "text/html": [
       "<div>\n",
       "<style scoped>\n",
       "    .dataframe tbody tr th:only-of-type {\n",
       "        vertical-align: middle;\n",
       "    }\n",
       "\n",
       "    .dataframe tbody tr th {\n",
       "        vertical-align: top;\n",
       "    }\n",
       "\n",
       "    .dataframe thead th {\n",
       "        text-align: right;\n",
       "    }\n",
       "</style>\n",
       "<table border=\"1\" class=\"dataframe\">\n",
       "  <thead>\n",
       "    <tr style=\"text-align: right;\">\n",
       "      <th></th>\n",
       "      <th>Calls</th>\n",
       "      <th>Type</th>\n",
       "      <th>Billing</th>\n",
       "      <th>Rating</th>\n",
       "      <th>Salary</th>\n",
       "      <th>Base_pay</th>\n",
       "      <th>Bonus</th>\n",
       "      <th>Unit_Price</th>\n",
       "      <th>low</th>\n",
       "      <th>Unit_Sales</th>\n",
       "      <th>Total_Sales</th>\n",
       "      <th>Months</th>\n",
       "    </tr>\n",
       "  </thead>\n",
       "  <tbody>\n",
       "    <tr>\n",
       "      <th>0</th>\n",
       "      <td>Yes</td>\n",
       "      <td>Month-to-month</td>\n",
       "      <td>No</td>\n",
       "      <td>Yes</td>\n",
       "      <td>5089.00</td>\n",
       "      <td>2035.600</td>\n",
       "      <td>254.4500</td>\n",
       "      <td>3.77</td>\n",
       "      <td>3.65</td>\n",
       "      <td>18.25</td>\n",
       "      <td>18.8</td>\n",
       "      <td>0</td>\n",
       "    </tr>\n",
       "    <tr>\n",
       "      <th>1</th>\n",
       "      <td>Yes</td>\n",
       "      <td>Month-to-month</td>\n",
       "      <td>No</td>\n",
       "      <td>Yes</td>\n",
       "      <td>5698.12</td>\n",
       "      <td>2279.248</td>\n",
       "      <td>284.9060</td>\n",
       "      <td>3.74</td>\n",
       "      <td>3.65</td>\n",
       "      <td>18.40</td>\n",
       "      <td>18.85</td>\n",
       "      <td>0</td>\n",
       "    </tr>\n",
       "    <tr>\n",
       "      <th>2</th>\n",
       "      <td>Yes</td>\n",
       "      <td>Month-to-month</td>\n",
       "      <td>Yes</td>\n",
       "      <td>No</td>\n",
       "      <td>5896.65</td>\n",
       "      <td>2358.660</td>\n",
       "      <td>294.8325</td>\n",
       "      <td>3.89</td>\n",
       "      <td>3.72</td>\n",
       "      <td>18.70</td>\n",
       "      <td>18.9</td>\n",
       "      <td>0</td>\n",
       "    </tr>\n",
       "    <tr>\n",
       "      <th>3</th>\n",
       "      <td>Yes</td>\n",
       "      <td>Month-to-month</td>\n",
       "      <td>Yes</td>\n",
       "      <td>Yes</td>\n",
       "      <td>6125.12</td>\n",
       "      <td>2450.048</td>\n",
       "      <td>306.2560</td>\n",
       "      <td>4.35</td>\n",
       "      <td>3.83</td>\n",
       "      <td>18.75</td>\n",
       "      <td>19</td>\n",
       "      <td>0</td>\n",
       "    </tr>\n",
       "    <tr>\n",
       "      <th>4</th>\n",
       "      <td>Yes</td>\n",
       "      <td>Month-to-month</td>\n",
       "      <td>Yes</td>\n",
       "      <td>Yes</td>\n",
       "      <td>6245.00</td>\n",
       "      <td>2498.000</td>\n",
       "      <td>312.2500</td>\n",
       "      <td>4.34</td>\n",
       "      <td>4.08</td>\n",
       "      <td>18.80</td>\n",
       "      <td>19.05</td>\n",
       "      <td>1</td>\n",
       "    </tr>\n",
       "  </tbody>\n",
       "</table>\n",
       "</div>"
      ],
      "text/plain": [
       "  Calls            Type Billing Rating   Salary  Base_pay     Bonus  \\\n",
       "0   Yes  Month-to-month      No    Yes  5089.00  2035.600  254.4500   \n",
       "1   Yes  Month-to-month      No    Yes  5698.12  2279.248  284.9060   \n",
       "2   Yes  Month-to-month     Yes     No  5896.65  2358.660  294.8325   \n",
       "3   Yes  Month-to-month     Yes    Yes  6125.12  2450.048  306.2560   \n",
       "4   Yes  Month-to-month     Yes    Yes  6245.00  2498.000  312.2500   \n",
       "\n",
       "   Unit_Price   low  Unit_Sales Total_Sales  Months  \n",
       "0        3.77  3.65       18.25        18.8       0  \n",
       "1        3.74  3.65       18.40       18.85       0  \n",
       "2        3.89  3.72       18.70        18.9       0  \n",
       "3        4.35  3.83       18.75          19       0  \n",
       "4        4.34  4.08       18.80       19.05       1  "
      ]
     },
     "execution_count": 9,
     "metadata": {},
     "output_type": "execute_result"
    }
   ],
   "source": [
    "# Dropping poorly correlated columns post correlation analysis.\n",
    "\n",
    "HR_dataset = HR_dataset.drop(columns=[\"openingbalance\", \"closingbalance\", \"Volume\"])\n",
    "HR_dataset.head()"
   ]
  },
  {
   "cell_type": "code",
   "execution_count": 10,
   "id": "f9e20850",
   "metadata": {},
   "outputs": [
    {
     "name": "stdout",
     "output_type": "stream",
     "text": [
      "<class 'pandas.core.frame.DataFrame'>\n",
      "RangeIndex: 5000 entries, 0 to 4999\n",
      "Data columns (total 12 columns):\n",
      " #   Column       Non-Null Count  Dtype  \n",
      "---  ------       --------------  -----  \n",
      " 0   Calls        5000 non-null   object \n",
      " 1   Type         5000 non-null   object \n",
      " 2   Billing      5000 non-null   object \n",
      " 3   Rating       5000 non-null   object \n",
      " 4   Salary       5000 non-null   float64\n",
      " 5   Base_pay     4977 non-null   float64\n",
      " 6   Bonus        5000 non-null   float64\n",
      " 7   Unit_Price   5000 non-null   float64\n",
      " 8   low          5000 non-null   float64\n",
      " 9   Unit_Sales   5000 non-null   float64\n",
      " 10  Total_Sales  4992 non-null   object \n",
      " 11  Months       5000 non-null   int64  \n",
      "dtypes: float64(6), int64(1), object(5)\n",
      "memory usage: 468.9+ KB\n"
     ]
    }
   ],
   "source": [
    "# using info to check if the new dataset has dropped all the above columns.\n",
    "\n",
    "HR_dataset.info()"
   ]
  },
  {
   "cell_type": "code",
   "execution_count": 11,
   "id": "5f24b7ec",
   "metadata": {},
   "outputs": [
    {
     "data": {
      "text/plain": [
       "Calls           0\n",
       "Type            0\n",
       "Billing         0\n",
       "Rating          0\n",
       "Salary          0\n",
       "Base_pay       23\n",
       "Bonus           0\n",
       "Unit_Price      0\n",
       "low             0\n",
       "Unit_Sales      0\n",
       "Total_Sales     8\n",
       "Months          0\n",
       "dtype: int64"
      ]
     },
     "execution_count": 11,
     "metadata": {},
     "output_type": "execute_result"
    }
   ],
   "source": [
    "# checking for the remaining null values after column dropping.\n",
    "\n",
    "HR_dataset.isnull().sum()"
   ]
  },
  {
   "cell_type": "markdown",
   "id": "0b095bfe",
   "metadata": {},
   "source": [
    "## Clean and pre-process the data with other operations required, like, missing values, handling outliers, etc. as and when necessary & explain."
   ]
  },
  {
   "cell_type": "code",
   "execution_count": 12,
   "id": "bc53fbc9",
   "metadata": {},
   "outputs": [],
   "source": [
    "# We can see that basepay is 40% of salary and hence creating a new column for base pay using the below formulae.\n",
    "# This was required as there were null values in the base pay column.\n",
    "\n",
    "HR_dataset['base_pay']=HR_dataset['Salary']*40/100"
   ]
  },
  {
   "cell_type": "code",
   "execution_count": 13,
   "id": "3b5c4e6f",
   "metadata": {},
   "outputs": [],
   "source": [
    "# Dropping the previous Base pay column as the new one has replaced it with the same data without any null values.\n",
    "\n",
    "HR_dataset = HR_dataset.drop('Base_pay',axis=1)"
   ]
  },
  {
   "cell_type": "code",
   "execution_count": 14,
   "id": "47b45ccc",
   "metadata": {},
   "outputs": [
    {
     "data": {
      "text/html": [
       "<div>\n",
       "<style scoped>\n",
       "    .dataframe tbody tr th:only-of-type {\n",
       "        vertical-align: middle;\n",
       "    }\n",
       "\n",
       "    .dataframe tbody tr th {\n",
       "        vertical-align: top;\n",
       "    }\n",
       "\n",
       "    .dataframe thead th {\n",
       "        text-align: right;\n",
       "    }\n",
       "</style>\n",
       "<table border=\"1\" class=\"dataframe\">\n",
       "  <thead>\n",
       "    <tr style=\"text-align: right;\">\n",
       "      <th></th>\n",
       "      <th>Calls</th>\n",
       "      <th>Type</th>\n",
       "      <th>Billing</th>\n",
       "      <th>Rating</th>\n",
       "      <th>Salary</th>\n",
       "      <th>Bonus</th>\n",
       "      <th>Unit_Price</th>\n",
       "      <th>low</th>\n",
       "      <th>Unit_Sales</th>\n",
       "      <th>Total_Sales</th>\n",
       "      <th>Months</th>\n",
       "      <th>base_pay</th>\n",
       "    </tr>\n",
       "  </thead>\n",
       "  <tbody>\n",
       "    <tr>\n",
       "      <th>0</th>\n",
       "      <td>Yes</td>\n",
       "      <td>Month-to-month</td>\n",
       "      <td>No</td>\n",
       "      <td>Yes</td>\n",
       "      <td>5089.00</td>\n",
       "      <td>254.4500</td>\n",
       "      <td>3.77</td>\n",
       "      <td>3.65</td>\n",
       "      <td>18.25</td>\n",
       "      <td>18.8</td>\n",
       "      <td>0</td>\n",
       "      <td>2035.600</td>\n",
       "    </tr>\n",
       "    <tr>\n",
       "      <th>1</th>\n",
       "      <td>Yes</td>\n",
       "      <td>Month-to-month</td>\n",
       "      <td>No</td>\n",
       "      <td>Yes</td>\n",
       "      <td>5698.12</td>\n",
       "      <td>284.9060</td>\n",
       "      <td>3.74</td>\n",
       "      <td>3.65</td>\n",
       "      <td>18.40</td>\n",
       "      <td>18.85</td>\n",
       "      <td>0</td>\n",
       "      <td>2279.248</td>\n",
       "    </tr>\n",
       "    <tr>\n",
       "      <th>2</th>\n",
       "      <td>Yes</td>\n",
       "      <td>Month-to-month</td>\n",
       "      <td>Yes</td>\n",
       "      <td>No</td>\n",
       "      <td>5896.65</td>\n",
       "      <td>294.8325</td>\n",
       "      <td>3.89</td>\n",
       "      <td>3.72</td>\n",
       "      <td>18.70</td>\n",
       "      <td>18.9</td>\n",
       "      <td>0</td>\n",
       "      <td>2358.660</td>\n",
       "    </tr>\n",
       "    <tr>\n",
       "      <th>3</th>\n",
       "      <td>Yes</td>\n",
       "      <td>Month-to-month</td>\n",
       "      <td>Yes</td>\n",
       "      <td>Yes</td>\n",
       "      <td>6125.12</td>\n",
       "      <td>306.2560</td>\n",
       "      <td>4.35</td>\n",
       "      <td>3.83</td>\n",
       "      <td>18.75</td>\n",
       "      <td>19</td>\n",
       "      <td>0</td>\n",
       "      <td>2450.048</td>\n",
       "    </tr>\n",
       "    <tr>\n",
       "      <th>4</th>\n",
       "      <td>Yes</td>\n",
       "      <td>Month-to-month</td>\n",
       "      <td>Yes</td>\n",
       "      <td>Yes</td>\n",
       "      <td>6245.00</td>\n",
       "      <td>312.2500</td>\n",
       "      <td>4.34</td>\n",
       "      <td>4.08</td>\n",
       "      <td>18.80</td>\n",
       "      <td>19.05</td>\n",
       "      <td>1</td>\n",
       "      <td>2498.000</td>\n",
       "    </tr>\n",
       "  </tbody>\n",
       "</table>\n",
       "</div>"
      ],
      "text/plain": [
       "  Calls            Type Billing Rating   Salary     Bonus  Unit_Price   low  \\\n",
       "0   Yes  Month-to-month      No    Yes  5089.00  254.4500        3.77  3.65   \n",
       "1   Yes  Month-to-month      No    Yes  5698.12  284.9060        3.74  3.65   \n",
       "2   Yes  Month-to-month     Yes     No  5896.65  294.8325        3.89  3.72   \n",
       "3   Yes  Month-to-month     Yes    Yes  6125.12  306.2560        4.35  3.83   \n",
       "4   Yes  Month-to-month     Yes    Yes  6245.00  312.2500        4.34  4.08   \n",
       "\n",
       "   Unit_Sales Total_Sales  Months  base_pay  \n",
       "0       18.25        18.8       0  2035.600  \n",
       "1       18.40       18.85       0  2279.248  \n",
       "2       18.70        18.9       0  2358.660  \n",
       "3       18.75          19       0  2450.048  \n",
       "4       18.80       19.05       1  2498.000  "
      ]
     },
     "execution_count": 14,
     "metadata": {},
     "output_type": "execute_result"
    }
   ],
   "source": [
    "# using .head() to view the first five values of the updated dataset.\n",
    "\n",
    "HR_dataset.head()"
   ]
  },
  {
   "cell_type": "code",
   "execution_count": 15,
   "id": "2a297959",
   "metadata": {},
   "outputs": [
    {
     "data": {
      "text/html": [
       "<div>\n",
       "<style scoped>\n",
       "    .dataframe tbody tr th:only-of-type {\n",
       "        vertical-align: middle;\n",
       "    }\n",
       "\n",
       "    .dataframe tbody tr th {\n",
       "        vertical-align: top;\n",
       "    }\n",
       "\n",
       "    .dataframe thead th {\n",
       "        text-align: right;\n",
       "    }\n",
       "</style>\n",
       "<table border=\"1\" class=\"dataframe\">\n",
       "  <thead>\n",
       "    <tr style=\"text-align: right;\">\n",
       "      <th></th>\n",
       "      <th>Calls</th>\n",
       "      <th>Type</th>\n",
       "      <th>Billing</th>\n",
       "      <th>Rating</th>\n",
       "      <th>Salary</th>\n",
       "      <th>Bonus</th>\n",
       "      <th>Unit_Price</th>\n",
       "      <th>low</th>\n",
       "      <th>Unit_Sales</th>\n",
       "      <th>Total_Sales</th>\n",
       "      <th>Months</th>\n",
       "      <th>base_pay</th>\n",
       "    </tr>\n",
       "  </thead>\n",
       "  <tbody>\n",
       "    <tr>\n",
       "      <th>0</th>\n",
       "      <td>Yes</td>\n",
       "      <td>Month-to-month</td>\n",
       "      <td>No</td>\n",
       "      <td>Yes</td>\n",
       "      <td>5089.00</td>\n",
       "      <td>254.4500</td>\n",
       "      <td>3.77</td>\n",
       "      <td>3.65</td>\n",
       "      <td>18.25</td>\n",
       "      <td>18.80</td>\n",
       "      <td>0</td>\n",
       "      <td>2035.600</td>\n",
       "    </tr>\n",
       "    <tr>\n",
       "      <th>1</th>\n",
       "      <td>Yes</td>\n",
       "      <td>Month-to-month</td>\n",
       "      <td>No</td>\n",
       "      <td>Yes</td>\n",
       "      <td>5698.12</td>\n",
       "      <td>284.9060</td>\n",
       "      <td>3.74</td>\n",
       "      <td>3.65</td>\n",
       "      <td>18.40</td>\n",
       "      <td>18.85</td>\n",
       "      <td>0</td>\n",
       "      <td>2279.248</td>\n",
       "    </tr>\n",
       "    <tr>\n",
       "      <th>2</th>\n",
       "      <td>Yes</td>\n",
       "      <td>Month-to-month</td>\n",
       "      <td>Yes</td>\n",
       "      <td>No</td>\n",
       "      <td>5896.65</td>\n",
       "      <td>294.8325</td>\n",
       "      <td>3.89</td>\n",
       "      <td>3.72</td>\n",
       "      <td>18.70</td>\n",
       "      <td>18.90</td>\n",
       "      <td>0</td>\n",
       "      <td>2358.660</td>\n",
       "    </tr>\n",
       "    <tr>\n",
       "      <th>3</th>\n",
       "      <td>Yes</td>\n",
       "      <td>Month-to-month</td>\n",
       "      <td>Yes</td>\n",
       "      <td>Yes</td>\n",
       "      <td>6125.12</td>\n",
       "      <td>306.2560</td>\n",
       "      <td>4.35</td>\n",
       "      <td>3.83</td>\n",
       "      <td>18.75</td>\n",
       "      <td>19.00</td>\n",
       "      <td>0</td>\n",
       "      <td>2450.048</td>\n",
       "    </tr>\n",
       "    <tr>\n",
       "      <th>4</th>\n",
       "      <td>Yes</td>\n",
       "      <td>Month-to-month</td>\n",
       "      <td>Yes</td>\n",
       "      <td>Yes</td>\n",
       "      <td>6245.00</td>\n",
       "      <td>312.2500</td>\n",
       "      <td>4.34</td>\n",
       "      <td>4.08</td>\n",
       "      <td>18.80</td>\n",
       "      <td>19.05</td>\n",
       "      <td>1</td>\n",
       "      <td>2498.000</td>\n",
       "    </tr>\n",
       "  </tbody>\n",
       "</table>\n",
       "</div>"
      ],
      "text/plain": [
       "  Calls            Type Billing Rating   Salary     Bonus  Unit_Price   low  \\\n",
       "0   Yes  Month-to-month      No    Yes  5089.00  254.4500        3.77  3.65   \n",
       "1   Yes  Month-to-month      No    Yes  5698.12  284.9060        3.74  3.65   \n",
       "2   Yes  Month-to-month     Yes     No  5896.65  294.8325        3.89  3.72   \n",
       "3   Yes  Month-to-month     Yes    Yes  6125.12  306.2560        4.35  3.83   \n",
       "4   Yes  Month-to-month     Yes    Yes  6245.00  312.2500        4.34  4.08   \n",
       "\n",
       "   Unit_Sales  Total_Sales  Months  base_pay  \n",
       "0       18.25        18.80       0  2035.600  \n",
       "1       18.40        18.85       0  2279.248  \n",
       "2       18.70        18.90       0  2358.660  \n",
       "3       18.75        19.00       0  2450.048  \n",
       "4       18.80        19.05       1  2498.000  "
      ]
     },
     "execution_count": 15,
     "metadata": {},
     "output_type": "execute_result"
    }
   ],
   "source": [
    "# Replacing na(null) values with mean for the Total_Sales column.\n",
    "\n",
    "HR_dataset['Total_Sales'] = pd.to_numeric(HR_dataset['Total_Sales'],errors = 'coerce')\n",
    "HR_dataset['Total_Sales'].fillna (value = HR_dataset['Total_Sales'].mean(), inplace = True)\n",
    "HR_dataset.head()"
   ]
  },
  {
   "cell_type": "code",
   "execution_count": 16,
   "id": "e609fb6b",
   "metadata": {},
   "outputs": [
    {
     "name": "stdout",
     "output_type": "stream",
     "text": [
      "<class 'pandas.core.frame.DataFrame'>\n",
      "RangeIndex: 5000 entries, 0 to 4999\n",
      "Data columns (total 12 columns):\n",
      " #   Column       Non-Null Count  Dtype  \n",
      "---  ------       --------------  -----  \n",
      " 0   Calls        5000 non-null   object \n",
      " 1   Type         5000 non-null   object \n",
      " 2   Billing      5000 non-null   object \n",
      " 3   Rating       5000 non-null   object \n",
      " 4   Salary       5000 non-null   float64\n",
      " 5   Bonus        5000 non-null   float64\n",
      " 6   Unit_Price   5000 non-null   float64\n",
      " 7   low          5000 non-null   float64\n",
      " 8   Unit_Sales   5000 non-null   float64\n",
      " 9   Total_Sales  5000 non-null   float64\n",
      " 10  Months       5000 non-null   int64  \n",
      " 11  base_pay     5000 non-null   float64\n",
      "dtypes: float64(7), int64(1), object(4)\n",
      "memory usage: 468.9+ KB\n"
     ]
    }
   ],
   "source": [
    "# Checking if the changes are visible.\n",
    "\n",
    "HR_dataset.info()"
   ]
  },
  {
   "cell_type": "code",
   "execution_count": 17,
   "id": "05dab66b",
   "metadata": {},
   "outputs": [
    {
     "data": {
      "text/plain": [
       "Calls          0\n",
       "Type           0\n",
       "Billing        0\n",
       "Rating         0\n",
       "Salary         0\n",
       "Bonus          0\n",
       "Unit_Price     0\n",
       "low            0\n",
       "Unit_Sales     0\n",
       "Total_Sales    0\n",
       "Months         0\n",
       "base_pay       0\n",
       "dtype: int64"
      ]
     },
     "execution_count": 17,
     "metadata": {},
     "output_type": "execute_result"
    }
   ],
   "source": [
    "# Checking for null values.\n",
    "\n",
    "HR_dataset.isnull().sum()"
   ]
  },
  {
   "cell_type": "markdown",
   "id": "ea3fd7e9",
   "metadata": {},
   "source": [
    "## Check the number of variables that are normally distributed & explain."
   ]
  },
  {
   "cell_type": "code",
   "execution_count": 18,
   "id": "7ea40837",
   "metadata": {},
   "outputs": [
    {
     "data": {
      "image/png": "[encoded data removed]",
      "text/plain": [
       "<Figure size 1008x504 with 2 Axes>"
      ]
     },
     "metadata": {
      "needs_background": "light"
     },
     "output_type": "display_data"
    }
   ],
   "source": [
    "# Visualizing Histogram and Boxplot for the Salary Column to check for normal distribution and outliers.\n",
    "\n",
    "plt.figure(figsize=(14, 7)) \n",
    "\n",
    "# For histogram\n",
    "plt.subplot(121)\n",
    "sns.histplot(HR_dataset['Salary'])\n",
    "\n",
    "# For boxplot\n",
    "plt.subplot(122)\n",
    "HR_dataset.boxplot(column =['Salary'])\n",
    "\n",
    "plt.show()"
   ]
  },
  {
   "cell_type": "code",
   "execution_count": 19,
   "id": "ccd56ccb",
   "metadata": {},
   "outputs": [
    {
     "data": {
      "image/png": "[encoded data removed]",
      "text/plain": [
       "<Figure size 3600x2880 with 6 Axes>"
      ]
     },
     "metadata": {
      "needs_background": "light"
     },
     "output_type": "display_data"
    }
   ],
   "source": [
    "# Creating Subplots to visualise histogram and to check for normal distribution for several columns together.\n",
    "\n",
    "fig, ((ax1, ax2), (ax3, ax4), (ax5, ax6)) = plt.subplots(nrows = 3,\n",
    "                                              ncols = 2,\n",
    "                                              figsize = (50, 40))\n",
    "\n",
    "ax1.set_title('v = 1',fontweight=\"bold\", size=35)\n",
    "ax2.set_title('v = 1',fontweight=\"bold\", size=35)\n",
    "ax3.set_title('v = 1',fontweight=\"bold\", size=35)\n",
    "ax4.set_title('v = 1',fontweight=\"bold\", size=35)\n",
    "ax5.set_title('v = 1',fontweight=\"bold\", size=35)\n",
    "ax6.set_title('v = 1',fontweight=\"bold\", size=35)\n",
    "\n",
    "# plot to each different axis.\n",
    "ax1.hist(HR_dataset[\"base_pay\"])\n",
    "ax2.hist(HR_dataset[\"Bonus\"])\n",
    "ax3.hist(HR_dataset[\"Unit_Price\"])\n",
    "ax4.hist(HR_dataset[\"low\"])\n",
    "ax5.hist(HR_dataset[\"Unit_Sales\"])\n",
    "ax6.hist(HR_dataset[\"Total_Sales\"]);\n",
    "\n",
    "# Titles for each plot.\n",
    "ax1.title.set_text('base_pay')\n",
    "ax2.title.set_text('Bonus')\n",
    "ax3.title.set_text('Unit_Price')\n",
    "ax4.title.set_text('low')\n",
    "ax5.title.set_text('Unit_Sales')\n",
    "ax6.title.set_text('Total_Sales');\n"
   ]
  },
  {
   "cell_type": "code",
   "execution_count": 20,
   "id": "a7fc3980",
   "metadata": {},
   "outputs": [
    {
     "data": {
      "image/png": "[encoded data removed]",
      "text/plain": [
       "<Figure size 3600x2880 with 6 Axes>"
      ]
     },
     "metadata": {
      "needs_background": "light"
     },
     "output_type": "display_data"
    }
   ],
   "source": [
    "# Creating Subplots to visualise Boxplot and to check for outliers for several columns together.\n",
    "\n",
    "fig, ((ax1, ax2), (ax3, ax4), (ax5, ax6)) = plt.subplots(nrows = 3,\n",
    "                                              ncols = 2,\n",
    "                                              figsize = (50, 40))\n",
    "\n",
    "ax1.set_title('v = 1',fontweight=\"bold\", size=35)\n",
    "ax2.set_title('v = 1',fontweight=\"bold\", size=35)\n",
    "ax3.set_title('v = 1',fontweight=\"bold\", size=35)\n",
    "ax4.set_title('v = 1',fontweight=\"bold\", size=35)\n",
    "ax5.set_title('v = 1',fontweight=\"bold\", size=35)\n",
    "ax6.set_title('v = 1',fontweight=\"bold\", size=35)\n",
    "\n",
    "# plot to each different axis.\n",
    "ax1.boxplot(HR_dataset[\"base_pay\"])\n",
    "ax2.boxplot(HR_dataset[\"Bonus\"])\n",
    "ax3.boxplot(HR_dataset[\"Unit_Price\"])\n",
    "ax4.boxplot(HR_dataset[\"low\"])\n",
    "ax5.boxplot(HR_dataset[\"Unit_Sales\"])\n",
    "ax6.boxplot(HR_dataset[\"Total_Sales\"]);\n",
    "\n",
    "# Titles for each plot.\n",
    "ax1.title.set_text('base_pay')\n",
    "ax2.title.set_text('Bonus')\n",
    "ax3.title.set_text('Unit_Price')\n",
    "ax4.title.set_text('low')\n",
    "ax5.title.set_text('Unit_Sales')\n",
    "ax6.title.set_text('Total_Sales')"
   ]
  },
  {
   "cell_type": "code",
   "execution_count": 21,
   "id": "80efaa54",
   "metadata": {},
   "outputs": [],
   "source": [
    "# From the above plots we understand that there are several columns with outliers which leads to noisy dataset.\n",
    "# Hence, formualting to replace outliers with upper and lower whisker. \n",
    "\n",
    "def id_out(col):\n",
    "    sorted(col)\n",
    "    Q1, Q3 = col.quantile([0.25,0.75])\n",
    "    IQR= Q3-Q1\n",
    "    low_whis = Q1-(1.5 * IQR)\n",
    "    up_whis = Q3+(1.5 * IQR)\n",
    "    return low_whis,up_whis"
   ]
  },
  {
   "cell_type": "code",
   "execution_count": 22,
   "id": "549f8766",
   "metadata": {},
   "outputs": [],
   "source": [
    "# Implementing the above formulated logic into columns with outliers.\n",
    "\n",
    "low, up = id_out(HR_dataset['Salary'])\n",
    "HR_dataset['Salary']= np.where(HR_dataset['Salary']> up, up, HR_dataset['Salary'])\n",
    "HR_dataset['Salary']= np.where(HR_dataset['Salary']< low, low, HR_dataset['Salary'])\n",
    "\n",
    "low, up = id_out(HR_dataset['Bonus'])\n",
    "HR_dataset['Bonus']= np.where(HR_dataset['Bonus']> up, up, HR_dataset['Bonus'])\n",
    "HR_dataset['Bonus']= np.where(HR_dataset['Bonus']< low, low, HR_dataset['Bonus'])\n",
    "\n",
    "low, up = id_out(HR_dataset['Unit_Price'])\n",
    "HR_dataset['Unit_Price']= np.where(HR_dataset['Unit_Price']> up, up, HR_dataset['Unit_Price'])\n",
    "HR_dataset['Unit_Price']= np.where(HR_dataset['Unit_Price']< low, low, HR_dataset['Unit_Price'])\n",
    "\n",
    "low, up = id_out(HR_dataset['low'])\n",
    "HR_dataset['low']= np.where(HR_dataset['low']> up, up, HR_dataset['low'])\n",
    "HR_dataset['low']= np.where(HR_dataset['low']< low, low, HR_dataset['low'])\n",
    "\n",
    "low, up = id_out(HR_dataset['base_pay'])\n",
    "HR_dataset['base_pay']= np.where(HR_dataset['base_pay']> up, up, HR_dataset['base_pay'])\n",
    "HR_dataset['base_pay']= np.where(HR_dataset['base_pay']< low, low, HR_dataset['base_pay'])"
   ]
  },
  {
   "cell_type": "code",
   "execution_count": 23,
   "id": "017a0b1d",
   "metadata": {},
   "outputs": [
    {
     "data": {
      "text/plain": [
       "<AxesSubplot:>"
      ]
     },
     "execution_count": 23,
     "metadata": {},
     "output_type": "execute_result"
    },
    {
     "data": {
      "image/png": "[encoded data removed]",
      "text/plain": [
       "<Figure size 432x288 with 1 Axes>"
      ]
     },
     "metadata": {
      "needs_background": "light"
     },
     "output_type": "display_data"
    }
   ],
   "source": [
    "# Checking one Boxplot after removing Outliers.\n",
    "\n",
    "HR_dataset.boxplot(column= ['Salary'])"
   ]
  },
  {
   "cell_type": "markdown",
   "id": "8f9fe3b5",
   "metadata": {},
   "source": [
    "## Examine the relationship between categorical variables and the dependent variable & explain."
   ]
  },
  {
   "cell_type": "code",
   "execution_count": 24,
   "id": "e55ac7a7",
   "metadata": {},
   "outputs": [
    {
     "data": {
      "image/png": "[encoded data removed]",
      "text/plain": [
       "<Figure size 576x432 with 1 Axes>"
      ]
     },
     "metadata": {
      "needs_background": "light"
     },
     "output_type": "display_data"
    },
    {
     "data": {
      "image/png": "[encoded data removed]",
      "text/plain": [
       "<Figure size 576x432 with 1 Axes>"
      ]
     },
     "metadata": {
      "needs_background": "light"
     },
     "output_type": "display_data"
    },
    {
     "data": {
      "image/png": "[encoded data removed]",
      "text/plain": [
       "<Figure size 576x432 with 1 Axes>"
      ]
     },
     "metadata": {
      "needs_background": "light"
     },
     "output_type": "display_data"
    },
    {
     "data": {
      "image/png": "[encoded data removed]",
      "text/plain": [
       "<Figure size 576x432 with 1 Axes>"
      ]
     },
     "metadata": {
      "needs_background": "light"
     },
     "output_type": "display_data"
    }
   ],
   "source": [
    "# PLotting Bar Graph for Calls, Type, Billing and Rating to check for their dependencies on Salary.\n",
    "\n",
    "plt.figure(figsize=(8, 6))\n",
    "\n",
    "plt.bar(HR_dataset['Calls'],HR_dataset['Salary'], width = 0.2, color= 'blue')\n",
    "plt.title(\"Dependency of Calls on Salary\")\n",
    "plt.ylabel(\"Salary\")\n",
    "plt.show()\n",
    "#------------------------------------------------#\n",
    "\n",
    "plt.figure(figsize=(8, 6))\n",
    "\n",
    "plt.bar(HR_dataset['Type'],HR_dataset['Salary'], width = 0.2, color= 'blue')\n",
    "plt.title(\"Dependency of Type on Salary\")\n",
    "plt.ylabel(\"Salary\")\n",
    "plt.show()\n",
    "#------------------------------------------------#\n",
    "\n",
    "plt.figure(figsize=(8, 6))\n",
    "\n",
    "plt.bar(HR_dataset['Billing'],HR_dataset['Salary'], width = 0.2, color= 'blue')\n",
    "plt.title(\"Dependency of Billing on Salary\")\n",
    "plt.ylabel(\"Salary\")\n",
    "plt.show()\n",
    "#------------------------------------------------#\n",
    "\n",
    "plt.figure(figsize=(8, 6))\n",
    "\n",
    "plt.bar(HR_dataset['Rating'],HR_dataset['Salary'], width = 0.2, color= 'blue')\n",
    "plt.title(\"Dependency of Rating on Salary\")\n",
    "plt.ylabel(\"Salary\")\n",
    "plt.show()"
   ]
  },
  {
   "cell_type": "markdown",
   "id": "82dab264",
   "metadata": {},
   "source": [
    "#### From the above plotting we can say that the categorical columns have no Dependencies on the Salary Column. We can say this because there is no change in Salary with respect to other categorical columns, as visualized above."
   ]
  },
  {
   "cell_type": "code",
   "execution_count": 25,
   "id": "0f79f3c3",
   "metadata": {},
   "outputs": [
    {
     "name": "stdout",
     "output_type": "stream",
     "text": [
      "<class 'pandas.core.frame.DataFrame'>\n",
      "RangeIndex: 5000 entries, 0 to 4999\n",
      "Data columns (total 12 columns):\n",
      " #   Column       Non-Null Count  Dtype  \n",
      "---  ------       --------------  -----  \n",
      " 0   Calls        5000 non-null   object \n",
      " 1   Type         5000 non-null   object \n",
      " 2   Billing      5000 non-null   object \n",
      " 3   Rating       5000 non-null   object \n",
      " 4   Salary       5000 non-null   float64\n",
      " 5   Bonus        5000 non-null   float64\n",
      " 6   Unit_Price   5000 non-null   float64\n",
      " 7   low          5000 non-null   float64\n",
      " 8   Unit_Sales   5000 non-null   float64\n",
      " 9   Total_Sales  5000 non-null   float64\n",
      " 10  Months       5000 non-null   int64  \n",
      " 11  base_pay     5000 non-null   float64\n",
      "dtypes: float64(7), int64(1), object(4)\n",
      "memory usage: 468.9+ KB\n"
     ]
    }
   ],
   "source": [
    "# checking the info of the dataset to check the datatype .\n",
    "\n",
    "HR_dataset.info()"
   ]
  },
  {
   "cell_type": "code",
   "execution_count": 26,
   "id": "e5c5ccb5",
   "metadata": {},
   "outputs": [
    {
     "data": {
      "text/html": [
       "<div>\n",
       "<style scoped>\n",
       "    .dataframe tbody tr th:only-of-type {\n",
       "        vertical-align: middle;\n",
       "    }\n",
       "\n",
       "    .dataframe tbody tr th {\n",
       "        vertical-align: top;\n",
       "    }\n",
       "\n",
       "    .dataframe thead th {\n",
       "        text-align: right;\n",
       "    }\n",
       "</style>\n",
       "<table border=\"1\" class=\"dataframe\">\n",
       "  <thead>\n",
       "    <tr style=\"text-align: right;\">\n",
       "      <th></th>\n",
       "      <th>Calls</th>\n",
       "      <th>Type</th>\n",
       "      <th>Billing</th>\n",
       "      <th>Rating</th>\n",
       "      <th>Salary</th>\n",
       "      <th>Bonus</th>\n",
       "      <th>Unit_Price</th>\n",
       "      <th>low</th>\n",
       "      <th>Unit_Sales</th>\n",
       "      <th>Total_Sales</th>\n",
       "      <th>Months</th>\n",
       "      <th>base_pay</th>\n",
       "    </tr>\n",
       "  </thead>\n",
       "  <tbody>\n",
       "    <tr>\n",
       "      <th>0</th>\n",
       "      <td>1</td>\n",
       "      <td>0</td>\n",
       "      <td>0</td>\n",
       "      <td>1</td>\n",
       "      <td>34357.708738</td>\n",
       "      <td>1717.885438</td>\n",
       "      <td>3.77</td>\n",
       "      <td>3.65</td>\n",
       "      <td>18.25</td>\n",
       "      <td>18.80</td>\n",
       "      <td>0</td>\n",
       "      <td>13743.083495</td>\n",
       "    </tr>\n",
       "    <tr>\n",
       "      <th>1</th>\n",
       "      <td>1</td>\n",
       "      <td>0</td>\n",
       "      <td>0</td>\n",
       "      <td>1</td>\n",
       "      <td>34357.708738</td>\n",
       "      <td>1717.885438</td>\n",
       "      <td>3.74</td>\n",
       "      <td>3.65</td>\n",
       "      <td>18.40</td>\n",
       "      <td>18.85</td>\n",
       "      <td>0</td>\n",
       "      <td>13743.083495</td>\n",
       "    </tr>\n",
       "    <tr>\n",
       "      <th>2</th>\n",
       "      <td>1</td>\n",
       "      <td>0</td>\n",
       "      <td>1</td>\n",
       "      <td>0</td>\n",
       "      <td>34357.708738</td>\n",
       "      <td>1717.885438</td>\n",
       "      <td>3.89</td>\n",
       "      <td>3.72</td>\n",
       "      <td>18.70</td>\n",
       "      <td>18.90</td>\n",
       "      <td>0</td>\n",
       "      <td>13743.083495</td>\n",
       "    </tr>\n",
       "    <tr>\n",
       "      <th>3</th>\n",
       "      <td>1</td>\n",
       "      <td>0</td>\n",
       "      <td>1</td>\n",
       "      <td>1</td>\n",
       "      <td>34357.708738</td>\n",
       "      <td>1717.885438</td>\n",
       "      <td>4.35</td>\n",
       "      <td>3.83</td>\n",
       "      <td>18.75</td>\n",
       "      <td>19.00</td>\n",
       "      <td>0</td>\n",
       "      <td>13743.083495</td>\n",
       "    </tr>\n",
       "    <tr>\n",
       "      <th>4</th>\n",
       "      <td>1</td>\n",
       "      <td>0</td>\n",
       "      <td>1</td>\n",
       "      <td>1</td>\n",
       "      <td>34357.708738</td>\n",
       "      <td>1717.885438</td>\n",
       "      <td>4.34</td>\n",
       "      <td>4.08</td>\n",
       "      <td>18.80</td>\n",
       "      <td>19.05</td>\n",
       "      <td>1</td>\n",
       "      <td>13743.083495</td>\n",
       "    </tr>\n",
       "  </tbody>\n",
       "</table>\n",
       "</div>"
      ],
      "text/plain": [
       "   Calls  Type  Billing  Rating        Salary        Bonus  Unit_Price   low  \\\n",
       "0      1     0        0       1  34357.708738  1717.885438        3.77  3.65   \n",
       "1      1     0        0       1  34357.708738  1717.885438        3.74  3.65   \n",
       "2      1     0        1       0  34357.708738  1717.885438        3.89  3.72   \n",
       "3      1     0        1       1  34357.708738  1717.885438        4.35  3.83   \n",
       "4      1     0        1       1  34357.708738  1717.885438        4.34  4.08   \n",
       "\n",
       "   Unit_Sales  Total_Sales  Months      base_pay  \n",
       "0       18.25        18.80       0  13743.083495  \n",
       "1       18.40        18.85       0  13743.083495  \n",
       "2       18.70        18.90       0  13743.083495  \n",
       "3       18.75        19.00       0  13743.083495  \n",
       "4       18.80        19.05       1  13743.083495  "
      ]
     },
     "execution_count": 26,
     "metadata": {},
     "output_type": "execute_result"
    }
   ],
   "source": [
    "# Importing labelencoder from sklearn library.\n",
    "# We are doing label encoding as we have 4 categorical columns (calls, type, billing and rating).\n",
    "# We cannot train the model with the categorical columns. Hence, converting to numerical values. \n",
    "# This also helps in training the model easier.\n",
    "\n",
    "from sklearn.preprocessing import LabelEncoder\n",
    "label_encoder = LabelEncoder()\n",
    "HR_dataset1 = HR_dataset.copy()\n",
    "HR_dataset1['Calls'] = label_encoder.fit_transform(HR_dataset1.Calls)\n",
    "HR_dataset1['Type'] = label_encoder.fit_transform(HR_dataset1.Type)\n",
    "HR_dataset1['Billing'] = label_encoder.fit_transform(HR_dataset1.Billing)\n",
    "HR_dataset1['Rating'] = label_encoder.fit_transform(HR_dataset1.Rating)\n",
    "HR_dataset1.head()"
   ]
  },
  {
   "cell_type": "code",
   "execution_count": 27,
   "id": "7320969f",
   "metadata": {},
   "outputs": [
    {
     "name": "stdout",
     "output_type": "stream",
     "text": [
      "<class 'pandas.core.frame.DataFrame'>\n",
      "RangeIndex: 5000 entries, 0 to 4999\n",
      "Data columns (total 12 columns):\n",
      " #   Column       Non-Null Count  Dtype\n",
      "---  ------       --------------  -----\n",
      " 0   Calls        5000 non-null   int32\n",
      " 1   Type         5000 non-null   int32\n",
      " 2   Billing      5000 non-null   int32\n",
      " 3   Rating       5000 non-null   int32\n",
      " 4   Salary       5000 non-null   int32\n",
      " 5   Bonus        5000 non-null   int32\n",
      " 6   Unit_Price   5000 non-null   int32\n",
      " 7   low          5000 non-null   int32\n",
      " 8   Unit_Sales   5000 non-null   int32\n",
      " 9   Total_Sales  5000 non-null   int32\n",
      " 10  Months       5000 non-null   int32\n",
      " 11  base_pay     5000 non-null   int32\n",
      "dtypes: int32(12)\n",
      "memory usage: 234.5 KB\n"
     ]
    }
   ],
   "source": [
    "# Changing the datatypes to integer for data uniformity.\n",
    "\n",
    "HR_dataset1['Salary'] = HR_dataset1['Salary'].astype(int)\n",
    "HR_dataset1['Bonus'] = HR_dataset1['Bonus'].astype(int)\n",
    "HR_dataset1['Unit_Price'] = HR_dataset1['Unit_Price'].astype(int)\n",
    "HR_dataset1['low'] = HR_dataset1['low'].astype(int)\n",
    "HR_dataset1['Unit_Sales'] = HR_dataset1['Unit_Sales'].astype(int)\n",
    "HR_dataset1['Total_Sales'] = HR_dataset1['Total_Sales'].astype(int)\n",
    "HR_dataset1['Months'] = HR_dataset1['Months'].astype(int)\n",
    "HR_dataset1['base_pay'] = HR_dataset1['base_pay'].astype(int)\n",
    "HR_dataset1['Calls'] = HR_dataset1['Calls'].astype(int)\n",
    "HR_dataset1['Type'] = HR_dataset1['Type'].astype(int)\n",
    "HR_dataset1['Billing'] = HR_dataset1['Billing'].astype(int)\n",
    "HR_dataset1['Rating'] = HR_dataset1['Rating'].astype(int)\n",
    "HR_dataset1.info();"
   ]
  },
  {
   "cell_type": "markdown",
   "id": "0e8a0ade",
   "metadata": {},
   "source": [
    "## Apply ML algorithm to the pre-processed columns and find out, which of these algorithms is best suitable for the same & explain."
   ]
  },
  {
   "cell_type": "markdown",
   "id": "e494fba8",
   "metadata": {},
   "source": [
    "#### * As the problem statement is a regression model we should use a regressor alogrithm. Hence, we will be using random forest regressor because the ensemble library is the most accurate model if we work on a large dataset.\n",
    "#### * Ensemble methods are good at both performance and robustness.\n",
    "#### * Performance: An ensemble can make better predictions and achieve better performance than any single contributing model.\n",
    "#### * Robustness: An ensemble reduces the spread or dispersion of the predictions and model performance.\n",
    "#### * Ensemble methods have Boosting, Bagging, And Stacking, which is used to reduce variance and bias to enhance the accuracy of models.\n",
    "#### * And we are using randomforest because its easy to use and errors can be reduced drastically by averaging.\n",
    "#### * Also hyperparameter tuning is very efficient by just changing the estimators."
   ]
  },
  {
   "cell_type": "code",
   "execution_count": 28,
   "id": "cacc918b",
   "metadata": {},
   "outputs": [],
   "source": [
    "# Importing randomforestregressor from sklearn library.\n",
    "# Importing train and test split from model selection.\n",
    "\n",
    "from sklearn.ensemble import RandomForestRegressor\n",
    "from sklearn.model_selection import train_test_split"
   ]
  },
  {
   "cell_type": "code",
   "execution_count": 29,
   "id": "e1384669",
   "metadata": {},
   "outputs": [],
   "source": [
    "# Spliting the X and y variables for fitting the model.\n",
    "\n",
    "np.random.seed(42)\n",
    "X = HR_dataset1.drop('Salary',axis = 1)\n",
    "y = HR_dataset1['Salary']"
   ]
  },
  {
   "cell_type": "code",
   "execution_count": 30,
   "id": "c7787b2c",
   "metadata": {},
   "outputs": [],
   "source": [
    "# Taking the test size as 20% of the total dataset for training.\n",
    "\n",
    "X_train , X_test , y_train , y_test = train_test_split(X , y , test_size = 0.2)"
   ]
  },
  {
   "cell_type": "code",
   "execution_count": 31,
   "id": "32c1d483",
   "metadata": {},
   "outputs": [
    {
     "data": {
      "text/plain": [
       "((4000, 11), (1000, 11), (4000,), (1000,))"
      ]
     },
     "execution_count": 31,
     "metadata": {},
     "output_type": "execute_result"
    }
   ],
   "source": [
    "# Checking the shape of test and train (to check for the distribution . ie, test = 20% ans train = 80%).\n",
    "\n",
    "X_train.shape, X_test.shape, y_train.shape , y_test.shape"
   ]
  },
  {
   "cell_type": "code",
   "execution_count": 32,
   "id": "b22301ad",
   "metadata": {},
   "outputs": [
    {
     "data": {
      "text/plain": [
       "0.9999804034048838"
      ]
     },
     "execution_count": 32,
     "metadata": {},
     "output_type": "execute_result"
    }
   ],
   "source": [
    "# Fitting the model to check for the accuracy of the model and predicting the test score.\n",
    "\n",
    "model = RandomForestRegressor(n_estimators = 3)\n",
    "model.fit(X_train , y_train)\n",
    "model.score(X_test , y_test)"
   ]
  },
  {
   "cell_type": "markdown",
   "id": "37ffce22",
   "metadata": {},
   "source": [
    "### The predicted accuracy is amazing as its very close to 100 and the model fits so well ."
   ]
  },
  {
   "cell_type": "code",
   "execution_count": 33,
   "id": "78e2bc6e",
   "metadata": {},
   "outputs": [
    {
     "data": {
      "text/plain": [
       "array([ 87871.66666667, 101674.33333333, 102527.        ,  80955.66666667,\n",
       "        74665.66666667,  45329.        ,  71529.66666667, 100206.33333333,\n",
       "        99580.33333333,  89261.        , 100192.        ,  57112.66666667,\n",
       "        78715.33333333,  76443.33333333, 107039.66666667, 114075.        ,\n",
       "        81242.66666667, 111355.66666667,  91409.66666667,  81423.66666667,\n",
       "        78870.66666667, 107337.        ,  82007.33333333,  73202.        ,\n",
       "       137131.66666667,  68585.        , 121368.33333333,  61753.33333333,\n",
       "       136627.66666667,  68070.33333333,  94380.66666667,  64464.33333333,\n",
       "       143644.66666667, 145042.        ,  91534.        , 100779.66666667,\n",
       "       114702.66666667, 126378.66666667, 157823.        ,  96003.33333333,\n",
       "       114827.33333333, 122365.        ,  34357.        ,  34357.        ,\n",
       "        77301.66666667, 119075.33333333, 117179.33333333, 135067.        ,\n",
       "       108768.33333333, 102553.66666667, 134438.66666667, 134866.        ,\n",
       "       100007.66666667, 104779.        ,  82347.33333333, 107731.        ,\n",
       "        81770.        ,  53054.        ,  90272.33333333, 101534.        ,\n",
       "        99133.        , 128227.        , 125259.        , 118536.        ,\n",
       "        34357.        , 102283.66666667, 111245.33333333,  97374.        ,\n",
       "       116043.33333333, 138247.        ,  93765.66666667,  42024.33333333,\n",
       "        57199.33333333,  60060.        ,  79989.        ,  96381.66666667,\n",
       "        74749.66666667, 104290.66666667, 100947.66666667, 116977.33333333,\n",
       "       111106.33333333, 109045.33333333, 123746.33333333,  89520.33333333,\n",
       "       107049.        ,  86534.33333333,  75719.66666667,  73534.        ,\n",
       "       140861.66666667, 118334.33333333, 123060.66666667,  67788.        ,\n",
       "        52591.33333333,  84596.        ,  68522.33333333, 138704.66666667,\n",
       "       105862.33333333, 112858.        ,  63507.33333333,  41321.        ,\n",
       "        88791.        ,  90268.        ,  96316.33333333, 129488.        ,\n",
       "        67717.66666667,  57903.33333333,  78975.33333333,  85045.33333333,\n",
       "       131837.66666667,  85204.66666667,  86350.33333333,  81552.33333333,\n",
       "       124509.33333333,  75345.        ,  98537.66666667, 114827.33333333,\n",
       "        96228.        ,  95976.66666667,  57499.66666667,  98830.        ,\n",
       "        85850.        ,  81018.        , 141853.        ,  55614.33333333,\n",
       "        98124.        , 138974.33333333,  97404.        , 140012.33333333,\n",
       "       104491.        , 108511.33333333, 125259.        , 107971.33333333,\n",
       "        94536.33333333,  85944.33333333, 119990.33333333, 121370.33333333,\n",
       "       129815.33333333, 114327.66666667,  79521.66666667,  53495.        ,\n",
       "       116248.66666667, 118025.33333333, 146112.        , 119036.        ,\n",
       "       131035.66666667, 109851.33333333, 106215.66666667, 114689.        ,\n",
       "       105189.        , 101565.66666667,  86636.33333333, 119171.33333333,\n",
       "       136251.        , 147888.33333333,  93044.        ,  34357.        ,\n",
       "       105333.66666667, 104802.33333333, 115729.33333333,  51162.33333333,\n",
       "        96076.33333333, 108429.        ,  77336.        ,  82137.33333333,\n",
       "        52068.33333333, 114762.        ,  80784.66666667,  89145.66666667,\n",
       "       106785.        ,  95192.33333333, 112266.        ,  92290.        ,\n",
       "       103089.        , 107225.66666667,  67822.        , 110590.66666667,\n",
       "       121523.        , 113569.66666667,  59557.33333333,  91390.66666667,\n",
       "       134703.33333333, 105172.        ,  94178.        ,  44101.        ,\n",
       "       104298.33333333, 114560.66666667, 116049.66666667, 115691.66666667,\n",
       "        69363.66666667,  93373.        ,  74098.        , 117510.66666667,\n",
       "       119623.66666667, 136093.        ,  94980.66666667,  81558.33333333,\n",
       "        77088.66666667, 104298.33333333, 118078.33333333, 127873.66666667,\n",
       "       118913.33333333,  75719.66666667, 103776.33333333, 126720.        ,\n",
       "       110662.66666667,  97096.66666667,  98928.        , 112349.33333333,\n",
       "       120095.33333333,  78664.        , 108440.        ,  79946.33333333,\n",
       "       115531.66666667, 100383.66666667, 121523.        ,  99024.        ,\n",
       "       143388.        ,  34357.        , 117481.        ,  80309.66666667,\n",
       "        89915.        ,  75263.        , 133627.        , 110414.33333333,\n",
       "        89571.        , 108319.        , 103007.66666667, 103165.33333333,\n",
       "        60043.33333333,  98661.66666667,  73509.66666667, 117221.33333333,\n",
       "        84024.        , 131670.        ,  57185.66666667, 110414.33333333,\n",
       "       109809.        ,  74407.        , 103584.33333333, 145047.33333333,\n",
       "        79616.66666667,  72849.        , 121848.        , 121520.66666667,\n",
       "        84877.        ,  92626.33333333,  96816.66666667,  86597.        ,\n",
       "        91946.33333333, 137881.66666667, 137289.66666667, 122374.66666667,\n",
       "        90053.66666667,  87509.        ,  98078.33333333,  78009.66666667,\n",
       "       113847.        ,  94955.33333333,  66369.66666667,  72760.33333333,\n",
       "        89136.66666667,  97456.33333333,  97385.66666667, 130866.66666667,\n",
       "        87565.        ,  91379.66666667, 100324.66666667, 101663.66666667,\n",
       "       105253.        ,  51871.33333333,  73902.        ,  84171.66666667,\n",
       "       149460.66666667,  34357.        ,  92722.        , 110073.33333333,\n",
       "        87611.33333333, 103291.33333333, 116066.33333333,  86707.33333333,\n",
       "       134169.66666667, 133887.        ,  75210.33333333,  83605.33333333,\n",
       "        89742.        , 119563.66666667,  83239.66666667, 110319.33333333,\n",
       "        94084.        ,  70316.        ,  68397.        , 106088.        ,\n",
       "        98567.33333333,  97102.33333333, 107501.        ,  73537.        ,\n",
       "        99122.33333333,  97459.        , 125358.        ,  82745.66666667,\n",
       "        49481.66666667,  67835.66666667, 109702.        ,  86365.66666667,\n",
       "       105110.66666667, 131282.66666667, 136930.66666667, 104587.66666667,\n",
       "        59912.        ,  93144.        , 107986.        , 115119.        ,\n",
       "        98445.66666667, 151124.        ,  89571.        ,  79868.66666667,\n",
       "        92259.66666667, 102367.        , 141142.        , 113919.        ,\n",
       "       142792.        , 119178.        ,  96132.33333333, 107258.33333333,\n",
       "        65390.33333333,  79685.33333333,  99583.        ,  68767.        ,\n",
       "       123039.33333333, 125210.66666667, 119610.33333333,  65314.        ,\n",
       "       122957.        ,  82926.33333333,  68081.66666667,  78197.33333333,\n",
       "        76691.        ,  70392.66666667, 118048.33333333,  83135.66666667,\n",
       "       125210.66666667, 121277.33333333,  84586.        ,  97436.33333333,\n",
       "       113622.66666667, 115545.        , 139271.        , 106768.        ,\n",
       "        95956.        ,  97007.        , 107218.        , 119289.33333333,\n",
       "        84364.        ,  60046.33333333, 142462.66666667,  58272.        ,\n",
       "       109985.66666667,  62541.        ,  82956.        ,  94346.        ,\n",
       "        65797.66666667,  43533.        , 116525.        ,  97580.33333333,\n",
       "        73832.        , 107258.33333333,  34357.        ,  66385.        ,\n",
       "        74174.66666667, 130247.66666667, 119640.33333333, 113812.        ,\n",
       "        88603.        ,  95214.        ,  97507.        , 122374.66666667,\n",
       "       109825.        ,  58330.66666667,  80379.66666667, 128157.        ,\n",
       "       117628.66666667, 126292.33333333, 100691.        ,  98246.33333333,\n",
       "        84886.66666667,  88785.66666667, 135406.66666667,  61075.33333333,\n",
       "        83809.66666667, 100007.66666667,  89086.66666667, 134703.33333333,\n",
       "       108116.33333333,  39105.66666667,  77650.66666667, 103584.33333333,\n",
       "        89694.66666667,  89948.33333333, 118465.33333333, 107951.        ,\n",
       "        81242.66666667, 120479.33333333,  76255.        , 101975.        ,\n",
       "       115228.        ,  96219.66666667,  93257.66666667,  76737.33333333,\n",
       "        64220.        , 105165.33333333,  82809.        , 109305.66666667,\n",
       "       102151.33333333,  85405.        ,  65035.33333333, 124522.        ,\n",
       "        47278.        , 166444.        , 112415.33333333, 104381.        ,\n",
       "       101804.        , 104648.        ,  99084.66666667,  83679.        ,\n",
       "        96486.33333333, 162127.33333333,  71929.33333333,  86787.33333333,\n",
       "       166444.        ,  69784.        ,  74988.        , 128595.66666667,\n",
       "        93144.        , 104779.        ,  95478.33333333, 105482.66666667,\n",
       "        97770.66666667, 119179.66666667,  53384.        , 105247.66666667,\n",
       "       115937.66666667,  41501.33333333, 101407.        ,  91102.66666667,\n",
       "        89571.        ,  90075.        ,  98567.33333333, 134284.33333333,\n",
       "        56820.66666667,  44094.66666667, 101985.33333333, 111746.33333333,\n",
       "       128810.66666667,  86206.66666667, 136627.66666667,  84536.        ,\n",
       "        96658.        , 105857.66666667, 115878.        ,  76797.33333333,\n",
       "        84081.66666667,  78181.33333333,  87103.33333333, 110964.        ,\n",
       "       101406.66666667, 114553.66666667, 102794.66666667, 135523.        ,\n",
       "       141520.66666667, 136497.66666667, 106139.        , 102706.66666667,\n",
       "        70540.33333333, 103996.66666667, 105971.66666667, 104458.        ,\n",
       "       103645.33333333,  91577.66666667,  75078.33333333,  56778.        ,\n",
       "       122847.        , 119852.        ,  89136.33333333, 111355.66666667,\n",
       "       120006.66666667, 137585.        ,  34357.        , 106639.66666667,\n",
       "        56295.        ,  74025.33333333,  62764.        ,  86787.33333333,\n",
       "        79327.        , 104733.        ,  70994.        , 119410.        ,\n",
       "        70099.66666667,  63473.        ,  89446.66666667, 114152.33333333,\n",
       "       116381.33333333, 117291.        ,  49517.33333333, 130732.        ,\n",
       "        86851.        ,  34357.        ,  85589.33333333,  75253.        ,\n",
       "        88496.66666667,  94881.66666667, 117510.66666667, 100814.33333333,\n",
       "        94536.33333333,  79924.        ,  34357.        ,  81892.33333333,\n",
       "        99477.66666667,  44046.33333333,  67937.        , 127506.        ,\n",
       "       122245.        , 116333.        ,  81782.        , 103473.66666667,\n",
       "        96750.        ,  61405.66666667, 125210.66666667, 108429.        ,\n",
       "       113981.        , 151198.        , 105681.        ,  82368.33333333,\n",
       "       115067.66666667,  60046.33333333, 116930.66666667, 114721.66666667,\n",
       "        69380.33333333, 114935.66666667, 102376.33333333, 141543.33333333,\n",
       "        94634.        , 105770.66666667,  88537.66666667, 132176.        ,\n",
       "       123470.33333333, 111545.33333333, 115768.66666667, 120505.33333333,\n",
       "       115150.        ,  71467.        , 110160.        ,  98283.        ,\n",
       "       120268.66666667,  71420.33333333,  99676.66666667,  86157.        ,\n",
       "       131837.66666667, 150138.        , 140944.33333333, 109911.66666667,\n",
       "       125617.66666667, 111238.        , 109674.        ,  96157.66666667,\n",
       "        82815.33333333, 144955.66666667, 117832.66666667,  93130.        ,\n",
       "       102052.33333333, 118582.66666667, 146292.        , 117263.66666667,\n",
       "       118276.        ,  99583.        ,  39126.        , 146149.33333333,\n",
       "        82103.        , 120710.66666667, 110098.        , 119041.66666667,\n",
       "        81569.33333333, 132586.        ,  83256.        , 119306.        ,\n",
       "        86721.66666667, 107572.        , 131626.33333333,  96083.        ,\n",
       "        76695.33333333, 138797.33333333, 116930.66666667,  85654.33333333,\n",
       "        98478.        , 133538.        , 138748.66666667,  80359.        ,\n",
       "       107973.33333333,  96141.66666667,  80567.        ,  93263.        ,\n",
       "        78108.33333333, 126008.        ,  83003.33333333, 133621.33333333,\n",
       "       131417.        , 115840.66666667,  72591.66666667, 104237.66666667,\n",
       "       125936.33333333, 158628.33333333,  57355.66666667, 133103.33333333,\n",
       "        90146.        ,  65372.66666667, 125098.33333333,  96753.66666667,\n",
       "        87118.        ,  75452.        ,  34357.        ,  83158.        ,\n",
       "        90819.        , 110088.        ,  71720.66666667, 109702.        ,\n",
       "       128552.        , 138092.33333333,  87930.        ,  86498.33333333,\n",
       "        94396.        ,  63585.66666667,  85204.66666667,  71918.        ,\n",
       "        57346.33333333, 111936.        ,  95639.        ,  76709.33333333,\n",
       "        81566.        , 126637.33333333, 139617.33333333, 115938.33333333,\n",
       "       112953.        , 107963.33333333, 103545.66666667,  98279.66666667,\n",
       "       123926.33333333, 116331.        , 107019.66666667, 125181.66666667,\n",
       "        76680.33333333, 123767.66666667, 116288.        ,  75494.66666667,\n",
       "       135334.33333333, 101014.33333333,  72450.66666667,  98279.66666667,\n",
       "       118091.        ,  70651.33333333,  82176.        ,  83193.33333333,\n",
       "        80697.33333333,  34357.        , 115529.33333333,  80639.33333333,\n",
       "        96884.        , 103007.66666667,  69380.33333333, 109124.66666667,\n",
       "       118392.        ,  66848.33333333, 114927.        ,  55271.66666667,\n",
       "        81942.66666667,  75826.        ,  94203.        , 110042.        ,\n",
       "       106638.        ,  86773.        , 124184.66666667, 107858.        ,\n",
       "       105678.        ,  73254.66666667,  80751.66666667, 116850.33333333,\n",
       "       121848.        , 128499.66666667,  48407.33333333,  95460.66666667,\n",
       "       125255.66666667, 146700.33333333, 126831.33333333, 136879.        ,\n",
       "        49517.33333333, 100074.33333333,  94271.66666667, 100147.33333333,\n",
       "        54086.66666667,  86157.        ,  98096.33333333,  68911.33333333,\n",
       "       138461.66666667, 121246.        , 108329.66666667, 102749.        ,\n",
       "       140079.        , 144849.66666667,  96210.66666667,  58272.        ,\n",
       "       113853.        , 114327.66666667, 120565.        ,  87936.33333333,\n",
       "        48953.33333333, 125254.        , 111173.33333333,  93122.66666667,\n",
       "       116139.        ,  70780.66666667,  85873.        , 109149.        ,\n",
       "       119829.        ,  81018.        ,  77605.33333333, 118180.33333333,\n",
       "       105007.        , 139852.33333333,  76083.66666667,  74988.        ,\n",
       "       103166.33333333, 102534.33333333, 145990.33333333,  71997.66666667,\n",
       "       118025.33333333,  83855.66666667, 143766.        , 143644.66666667,\n",
       "        61268.        ,  77088.66666667, 110240.33333333,  59222.66666667,\n",
       "       102724.33333333,  70143.        , 115450.        , 121246.        ,\n",
       "       147385.        , 105778.33333333,  72031.33333333,  78276.66666667,\n",
       "        69261.        , 134215.66666667,  98796.66666667, 112578.33333333,\n",
       "       166444.        , 142451.        , 119361.33333333,  60432.33333333,\n",
       "        96219.66666667, 101116.        , 124234.66666667, 110106.33333333,\n",
       "       116489.33333333,  84171.66666667,  88813.        , 110344.66666667,\n",
       "       121140.        ,  75599.        ,  80098.66666667, 104169.        ,\n",
       "       105445.33333333,  93129.33333333,  97459.        ,  82776.33333333,\n",
       "        92721.        ,  63629.66666667, 118404.66666667, 114986.66666667,\n",
       "        76562.33333333,  63800.        ,  82575.66666667, 117979.        ,\n",
       "       104169.        ,  97620.33333333, 120928.        , 102639.66666667,\n",
       "       120565.        , 106067.66666667, 119410.        ,  80520.        ,\n",
       "       110193.        ,  85241.33333333, 100635.33333333,  91082.66666667,\n",
       "       135867.33333333,  53310.33333333, 147385.        ,  93783.66666667,\n",
       "        34357.        , 112090.33333333, 136336.66666667,  81267.33333333,\n",
       "       104587.66666667,  87895.66666667,  98404.33333333,  86851.        ,\n",
       "        99588.33333333, 120268.66666667, 107858.        , 133740.66666667,\n",
       "        59678.33333333, 149783.33333333,  77376.        ,  88133.66666667,\n",
       "        82681.66666667,  89164.33333333, 112855.66666667, 108801.66666667,\n",
       "        98130.        , 114573.33333333, 145411.33333333,  98388.        ,\n",
       "        79334.        , 152927.        , 107352.66666667, 132952.66666667,\n",
       "       102806.33333333,  87580.33333333,  78894.33333333,  83204.        ,\n",
       "       120062.        , 114084.        , 127510.        ,  93954.66666667,\n",
       "        62646.        , 147699.66666667, 111928.66666667, 103217.33333333,\n",
       "       163608.        ,  74829.33333333, 103122.        , 103222.        ,\n",
       "       133006.        ,  60840.33333333,  90395.33333333,  77173.        ,\n",
       "        63345.33333333, 131362.33333333,  95828.33333333, 121012.        ,\n",
       "       143790.        , 130662.33333333,  91450.33333333,  34357.        ,\n",
       "        84898.33333333, 114525.        , 100882.33333333,  56532.        ,\n",
       "        87571.        ,  66737.33333333, 123553.        , 103535.66666667,\n",
       "       110590.66666667, 112460.66666667, 100880.66666667, 135523.        ,\n",
       "       116121.        , 103758.66666667,  76629.66666667, 106545.66666667,\n",
       "        97459.        , 140432.        ,  95828.33333333,  71255.33333333,\n",
       "        55807.        , 127151.66666667, 113264.66666667, 105746.33333333,\n",
       "       107768.66666667,  80236.66666667,  89123.        ,  80489.66666667,\n",
       "        91065.33333333,  84400.        , 100547.33333333, 111355.66666667,\n",
       "        69018.        ,  91479.        , 135621.33333333, 116542.66666667,\n",
       "        73741.66666667, 121418.        , 107083.        , 151957.66666667,\n",
       "       110567.66666667, 103043.66666667, 129849.        , 109241.        ,\n",
       "        96233.        , 111666.33333333, 111914.        , 113303.        ,\n",
       "        75693.66666667, 111715.        , 129563.        , 100889.        ,\n",
       "       144704.66666667,  78522.33333333, 102794.66666667,  56377.66666667,\n",
       "       111173.33333333, 130104.66666667,  74397.33333333,  87883.66666667,\n",
       "        99580.33333333,  96216.33333333, 118427.33333333, 100137.        ,\n",
       "       115332.        , 122127.66666667, 130732.66666667,  55199.        ,\n",
       "       136043.        ,  88691.66666667,  85010.        ,  78089.66666667,\n",
       "       131282.66666667, 113627.33333333, 118950.33333333, 166444.        ,\n",
       "        78130.66666667,  85306.66666667,  36284.        , 124509.33333333,\n",
       "        92363.33333333,  70840.33333333,  96685.        ,  44082.66666667,\n",
       "       123718.33333333, 111449.33333333,  50302.66666667, 155633.66666667,\n",
       "       101955.66666667, 120646.33333333, 140079.        ,  89368.        ,\n",
       "        89646.        ,  88593.33333333,  90630.66666667,  95530.33333333,\n",
       "        67604.66666667,  98618.33333333, 107258.        , 138643.66666667,\n",
       "        71733.33333333, 117927.66666667,  72684.66666667,  67108.        ,\n",
       "        87803.33333333, 100055.66666667, 138231.        , 106340.66666667,\n",
       "        89002.66666667,  80477.        , 113797.66666667,  88802.        ,\n",
       "       115119.        , 136043.        ,  52030.33333333,  86651.        ,\n",
       "        94916.        , 102835.33333333,  92012.33333333,  42408.        ,\n",
       "        67251.        ,  84680.        , 105696.        , 110344.66666667,\n",
       "       109702.        ,  94717.        , 116990.        , 115476.        ,\n",
       "        77112.        ,  57520.66666667, 136497.66666667, 107039.66666667,\n",
       "       108447.33333333,  94231.66666667, 103975.        ,  55199.        ,\n",
       "       143815.33333333, 152499.66666667,  79235.66666667,  84252.33333333,\n",
       "       124861.66666667,  98404.33333333, 129051.        , 137755.33333333,\n",
       "        98456.        , 109615.        , 103381.33333333,  93978.        ])"
      ]
     },
     "execution_count": 33,
     "metadata": {},
     "output_type": "execute_result"
    }
   ],
   "source": [
    "# To varify the predicted score it is compareed with mean_absolute_error , mean_squared_error(to check the error , as its one of the important hyper parameter of random forest).\n",
    "# Naming the X_test model predict as y_pred.\n",
    "\n",
    "y_pred = model.predict(X_test)\n",
    "y_pred"
   ]
  },
  {
   "cell_type": "code",
   "execution_count": 34,
   "id": "496c5231",
   "metadata": {},
   "outputs": [
    {
     "data": {
      "text/plain": [
       "1501     87840\n",
       "2586    101696\n",
       "2653    102526\n",
       "1055     80952\n",
       "705      74646\n",
       "         ...  \n",
       "4711    137772\n",
       "2313     98455\n",
       "3214    109603\n",
       "2732    103369\n",
       "1926     93981\n",
       "Name: Salary, Length: 1000, dtype: int32"
      ]
     },
     "execution_count": 34,
     "metadata": {},
     "output_type": "execute_result"
    }
   ],
   "source": [
    "# Comparing the Predicted value to The test value .\n",
    "# The values are very close to each other which shows the model has good accuracy.\n",
    "\n",
    "y_test"
   ]
  },
  {
   "cell_type": "code",
   "execution_count": 35,
   "id": "00212ac3",
   "metadata": {},
   "outputs": [
    {
     "data": {
      "text/plain": [
       "array([93978.])"
      ]
     },
     "execution_count": 35,
     "metadata": {},
     "output_type": "execute_result"
    }
   ],
   "source": [
    "# Taking an example to check the accuracy of the model\n",
    "\n",
    "# The y predict value of the last value is\n",
    "\n",
    "model.predict([X_test.iloc[-1,:]])"
   ]
  },
  {
   "cell_type": "code",
   "execution_count": 36,
   "id": "5884db23",
   "metadata": {},
   "outputs": [
    {
     "data": {
      "text/plain": [
       "93981"
      ]
     },
     "execution_count": 36,
     "metadata": {},
     "output_type": "execute_result"
    }
   ],
   "source": [
    "# Similarly, y test value is\n",
    "\n",
    "y_test.iloc[-1]"
   ]
  },
  {
   "cell_type": "markdown",
   "id": "7c59d57d",
   "metadata": {},
   "source": [
    "##### We can see that the two values from above are very close to each other, infering that the predicted and the test scores are quiet accurate."
   ]
  },
  {
   "cell_type": "markdown",
   "id": "1aa6400c",
   "metadata": {},
   "source": [
    "## CONCLUSION: From the above prediction we can infer that the components namingly, Bonus, base_pay, Total Sales, Low, Unit Sales, Unit Price are affecting the Salary Component and hence any changes to them can affect the productivity of the employee as it directly impacts the salary."
   ]
  },
  {
   "cell_type": "code",
   "execution_count": 37,
   "id": "87f29ee0",
   "metadata": {},
   "outputs": [
    {
     "data": {
      "text/plain": [
       "32.367666666666835"
      ]
     },
     "execution_count": 37,
     "metadata": {},
     "output_type": "execute_result"
    }
   ],
   "source": [
    "from sklearn.metrics import mean_absolute_error\n",
    "y_preds = model.predict(X_test)\n",
    "mean_absolute_error(y_test , y_preds)"
   ]
  },
  {
   "cell_type": "code",
   "execution_count": 38,
   "id": "4233adf3",
   "metadata": {},
   "outputs": [],
   "source": [
    "from sklearn.metrics import r2_score\n",
    "\n",
    "# Fill an array with y_test mean\n",
    "y_test_mean = np.full(len(y_test),y_test.mean())"
   ]
  },
  {
   "cell_type": "code",
   "execution_count": 39,
   "id": "3e50e40b",
   "metadata": {},
   "outputs": [
    {
     "data": {
      "text/plain": [
       "99424.338"
      ]
     },
     "execution_count": 39,
     "metadata": {},
     "output_type": "execute_result"
    }
   ],
   "source": [
    "y_test.mean()"
   ]
  },
  {
   "cell_type": "code",
   "execution_count": 40,
   "id": "083e6b65",
   "metadata": {},
   "outputs": [
    {
     "data": {
      "text/plain": [
       "0.0"
      ]
     },
     "execution_count": 40,
     "metadata": {},
     "output_type": "execute_result"
    }
   ],
   "source": [
    "r2_score(y_test,y_test_mean)"
   ]
  },
  {
   "cell_type": "code",
   "execution_count": 41,
   "id": "5a462a34",
   "metadata": {},
   "outputs": [
    {
     "data": {
      "text/plain": [
       "1.0"
      ]
     },
     "execution_count": 41,
     "metadata": {},
     "output_type": "execute_result"
    }
   ],
   "source": [
    "r2_score(y_test,y_test)"
   ]
  },
  {
   "cell_type": "code",
   "execution_count": 42,
   "id": "0b0145d1",
   "metadata": {},
   "outputs": [
    {
     "data": {
      "text/plain": [
       "32.367666666666835"
      ]
     },
     "execution_count": 42,
     "metadata": {},
     "output_type": "execute_result"
    }
   ],
   "source": [
    "# Mean absoulte error.\n",
    "\n",
    "from sklearn.metrics import mean_absolute_error\n",
    "\n",
    "y_preds = model.predict(X_test)\n",
    "mae = mean_absolute_error(y_test,y_preds)\n",
    "mae"
   ]
  },
  {
   "cell_type": "code",
   "execution_count": 43,
   "id": "9557f0c5",
   "metadata": {},
   "outputs": [
    {
     "data": {
      "text/html": [
       "<div>\n",
       "<style scoped>\n",
       "    .dataframe tbody tr th:only-of-type {\n",
       "        vertical-align: middle;\n",
       "    }\n",
       "\n",
       "    .dataframe tbody tr th {\n",
       "        vertical-align: top;\n",
       "    }\n",
       "\n",
       "    .dataframe thead th {\n",
       "        text-align: right;\n",
       "    }\n",
       "</style>\n",
       "<table border=\"1\" class=\"dataframe\">\n",
       "  <thead>\n",
       "    <tr style=\"text-align: right;\">\n",
       "      <th></th>\n",
       "      <th>actual values</th>\n",
       "      <th>predicted values</th>\n",
       "      <th>differences</th>\n",
       "    </tr>\n",
       "  </thead>\n",
       "  <tbody>\n",
       "    <tr>\n",
       "      <th>1501</th>\n",
       "      <td>87840</td>\n",
       "      <td>87871.666667</td>\n",
       "      <td>31.666667</td>\n",
       "    </tr>\n",
       "    <tr>\n",
       "      <th>2586</th>\n",
       "      <td>101696</td>\n",
       "      <td>101674.333333</td>\n",
       "      <td>-21.666667</td>\n",
       "    </tr>\n",
       "    <tr>\n",
       "      <th>2653</th>\n",
       "      <td>102526</td>\n",
       "      <td>102527.000000</td>\n",
       "      <td>1.000000</td>\n",
       "    </tr>\n",
       "    <tr>\n",
       "      <th>1055</th>\n",
       "      <td>80952</td>\n",
       "      <td>80955.666667</td>\n",
       "      <td>3.666667</td>\n",
       "    </tr>\n",
       "    <tr>\n",
       "      <th>705</th>\n",
       "      <td>74646</td>\n",
       "      <td>74665.666667</td>\n",
       "      <td>19.666667</td>\n",
       "    </tr>\n",
       "    <tr>\n",
       "      <th>...</th>\n",
       "      <td>...</td>\n",
       "      <td>...</td>\n",
       "      <td>...</td>\n",
       "    </tr>\n",
       "    <tr>\n",
       "      <th>4711</th>\n",
       "      <td>137772</td>\n",
       "      <td>137755.333333</td>\n",
       "      <td>-16.666667</td>\n",
       "    </tr>\n",
       "    <tr>\n",
       "      <th>2313</th>\n",
       "      <td>98455</td>\n",
       "      <td>98456.000000</td>\n",
       "      <td>1.000000</td>\n",
       "    </tr>\n",
       "    <tr>\n",
       "      <th>3214</th>\n",
       "      <td>109603</td>\n",
       "      <td>109615.000000</td>\n",
       "      <td>12.000000</td>\n",
       "    </tr>\n",
       "    <tr>\n",
       "      <th>2732</th>\n",
       "      <td>103369</td>\n",
       "      <td>103381.333333</td>\n",
       "      <td>12.333333</td>\n",
       "    </tr>\n",
       "    <tr>\n",
       "      <th>1926</th>\n",
       "      <td>93981</td>\n",
       "      <td>93978.000000</td>\n",
       "      <td>-3.000000</td>\n",
       "    </tr>\n",
       "  </tbody>\n",
       "</table>\n",
       "<p>1000 rows × 3 columns</p>\n",
       "</div>"
      ],
      "text/plain": [
       "      actual values  predicted values  differences\n",
       "1501          87840      87871.666667    31.666667\n",
       "2586         101696     101674.333333   -21.666667\n",
       "2653         102526     102527.000000     1.000000\n",
       "1055          80952      80955.666667     3.666667\n",
       "705           74646      74665.666667    19.666667\n",
       "...             ...               ...          ...\n",
       "4711         137772     137755.333333   -16.666667\n",
       "2313          98455      98456.000000     1.000000\n",
       "3214         109603     109615.000000    12.000000\n",
       "2732         103369     103381.333333    12.333333\n",
       "1926          93981      93978.000000    -3.000000\n",
       "\n",
       "[1000 rows x 3 columns]"
      ]
     },
     "execution_count": 43,
     "metadata": {},
     "output_type": "execute_result"
    }
   ],
   "source": [
    "df = pd.DataFrame(data = {'actual values':y_test,\n",
    "                          'predicted values': y_preds})\n",
    "df['differences'] = df['predicted values']-df['actual values']\n",
    "df"
   ]
  },
  {
   "cell_type": "code",
   "execution_count": 44,
   "id": "f9376444",
   "metadata": {},
   "outputs": [
    {
     "data": {
      "text/plain": [
       "Calls              1\n",
       "Type               1\n",
       "Billing            1\n",
       "Rating             0\n",
       "Salary         80952\n",
       "Bonus           4047\n",
       "Unit_Price        20\n",
       "low               19\n",
       "Unit_Sales        25\n",
       "Total_Sales      284\n",
       "Months            62\n",
       "base_pay       32380\n",
       "Name: 1055, dtype: int32"
      ]
     },
     "execution_count": 44,
     "metadata": {},
     "output_type": "execute_result"
    }
   ],
   "source": [
    "HR_dataset1.loc[1055]"
   ]
  },
  {
   "cell_type": "code",
   "execution_count": 45,
   "id": "0a9abea5",
   "metadata": {},
   "outputs": [
    {
     "data": {
      "text/plain": [
       "12524.307888888965"
      ]
     },
     "execution_count": 45,
     "metadata": {},
     "output_type": "execute_result"
    }
   ],
   "source": [
    "# Mean squared error.\n",
    "from sklearn.metrics import mean_squared_error\n",
    "\n",
    "y_preds = model.predict(X_test)\n",
    "mse = mean_squared_error(y_test,y_preds)\n",
    "mse"
   ]
  },
  {
   "cell_type": "code",
   "execution_count": 46,
   "id": "69e7612e",
   "metadata": {},
   "outputs": [
    {
     "data": {
      "text/plain": [
       "-0.4974916603899713"
      ]
     },
     "execution_count": 46,
     "metadata": {},
     "output_type": "execute_result"
    }
   ],
   "source": [
    "from sklearn.model_selection import cross_val_score\n",
    "\n",
    "np.random.seed(42)\n",
    "cv_r2 = cross_val_score( model , X , y , cv = 5 , scoring = None)\n",
    "np.mean(cv_r2)"
   ]
  },
  {
   "cell_type": "code",
   "execution_count": 47,
   "id": "45ad6782",
   "metadata": {},
   "outputs": [
    {
     "data": {
      "text/plain": [
       "array([-14909.23466667,  -3274.91566667,  -2927.87166667,  -3031.61533333,\n",
       "       -13025.25466667])"
      ]
     },
     "execution_count": 47,
     "metadata": {},
     "output_type": "execute_result"
    }
   ],
   "source": [
    "# Mean absoulte error\n",
    "np.random.seed(42)\n",
    "cv_mae = cross_val_score( model , X , y , cv = 5 , scoring = 'neg_mean_absolute_error')\n",
    "cv_mae"
   ]
  },
  {
   "cell_type": "code",
   "execution_count": 48,
   "id": "8ac69950",
   "metadata": {},
   "outputs": [
    {
     "data": {
      "text/plain": [
       "array([-3.88563881e+08, -1.41174370e+07, -1.13790471e+07, -1.24471005e+07,\n",
       "       -2.83306660e+08])"
      ]
     },
     "execution_count": 48,
     "metadata": {},
     "output_type": "execute_result"
    }
   ],
   "source": [
    "# Mean squared error.\n",
    "np.random.seed(42)\n",
    "cv_mse = cross_val_score( model , X , y , cv = 5 , scoring = 'neg_mean_squared_error')\n",
    "cv_mse"
   ]
  },
  {
   "cell_type": "code",
   "execution_count": 60,
   "id": "0140e91f",
   "metadata": {},
   "outputs": [
    {
     "data": {
      "text/plain": [
       "0.9999818704381451"
      ]
     },
     "execution_count": 60,
     "metadata": {},
     "output_type": "execute_result"
    }
   ],
   "source": [
    "np.random.seed(42)\n",
    "X = HR_dataset1.drop('Salary',axis = 1)\n",
    "y = HR_dataset1['Salary']\n",
    "\n",
    "model = RandomForestRegressor(n_estimators = 5000)\n",
    "model.fit(X_train,y_train)\n",
    "model.score(X_test,y_test)"
   ]
  },
  {
   "cell_type": "code",
   "execution_count": 61,
   "id": "3b4582ae",
   "metadata": {},
   "outputs": [
    {
     "data": {
      "text/plain": [
       "21.047096800000144"
      ]
     },
     "execution_count": 61,
     "metadata": {},
     "output_type": "execute_result"
    }
   ],
   "source": [
    "y_preds = model.predict(X_test)\n",
    "mae = mean_absolute_error(y_test,y_preds)\n",
    "mae"
   ]
  },
  {
   "cell_type": "code",
   "execution_count": null,
   "id": "c16539e5",
   "metadata": {},
   "outputs": [],
   "source": []
  }
 ],
 "metadata": {
  "kernelspec": {
   "display_name": "Python 3",
   "language": "python",
   "name": "python3"
  },
  "language_info": {
   "codemirror_mode": {
    "name": "ipython",
    "version": 3
   },
   "file_extension": ".py",
   "mimetype": "text/x-python",
   "name": "python",
   "nbconvert_exporter": "python",
   "pygments_lexer": "ipython3",
   "version": "3.8.8"
  }
 },
 "nbformat": 4,
 "nbformat_minor": 5
}
